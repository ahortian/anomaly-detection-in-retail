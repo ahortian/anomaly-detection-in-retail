{
 "cells": [
  {
   "cell_type": "markdown",
   "metadata": {},
   "source": [
    "# Anomaly Detection: \n",
    "Identify anomalies in the prices recorded by auditors at various retail stores and locations by using a linear regression model\n",
    "\n",
    "1. [Problem](#sec_prob)\n",
    "2. [Import and Merge Data](#sec_import)    \n",
    "3. [Exploratory Data Analysis (EDA)](#sec_eda)  \n",
    "4. [Building a model](#sec_model)\n",
    "5. [Conclusion](#sec_conc)"
   ]
  },
  {
   "cell_type": "markdown",
   "metadata": {},
   "source": [
    "<a id='sec_prob'></a>\n",
    "## (1) Problem\n",
    "- A company collects data from different retailers by sending auditors into physical stores to record pricing and assortment information. This data is then aggregated and validated using several different models and outlier identification techniques. One of these methods is a quick pricing model for price checking that assumes a store price is equal to a base price for the product/UPC multiplied by a store-specific scaling factor and a region-specific scaling factor. \n",
    "\n",
    "    This can be represented as \n",
    "   \n",
    "    <center>$ P_{i,j,k} = P_i × A_j × B_k $</center>\n",
    "    \n",
    "    for observed price P for product i in store j and region k, where\n",
    "    - $P_i$ = base price for product/upc i\n",
    "    - $A_j$ = the store multiplier (range from 0 to infinity) for store j\n",
    "    - $B_k$ = the region multiplier (range from 0 to infinity) for region k\n",
    " \n",
    "- ***Do you notice anything that seems off with the data we’ve collected? Call out anything you find noteworthy.***"
   ]
  },
  {
   "cell_type": "markdown",
   "metadata": {},
   "source": [
    "### My approach to the problem\n",
    "- Using the suggested model \n",
    "<center>$ P_{i,j,k} = P_i × A_j × B_k $</center>\n",
    "\n",
    "\n",
    "- Take $ln()$ of the equation, we get\n",
    "\n",
    "<center>$ ln(P_{i,j,k}) = ln(P_i) + ln(A_j) + ln(B_k) $</center>\n",
    "\n",
    "- We can also write\n",
    "\n",
    "\n",
    "<center> $ ln(Price) = ln(P_1)X_{product1} + ln(P_2)X_{product2} + ... + ln(A_1)X_{store1} + ln(A_2)X_{store2} + ... + ln(B_1)X_{region1} + ln(B_2)X_{region2} + ...$ </center>\n",
    "\n",
    "- where $X_{product_i}, X_{store_j}, X_{region_k} $ can be 0 or 1.\n",
    "\n",
    "\n",
    "- Then, we can fit a linear regression model where each product, store, and region becomes a categorical variable with a value of 0 or 1.\n",
    "\n",
    "- The constants of the regression will be $ln(P_i)$, $ln(A_j)$ and $ln(B_k)$.\n",
    "\n",
    "- <font color=blue>**Note that, here, I do something different from what suggested in the instruction. I fit the value of $ln(P_i)$, although it is suggested to simply use the median.**  "
   ]
  },
  {
   "cell_type": "markdown",
   "metadata": {},
   "source": [
    "<a id='sec_import'></a>\n",
    "## (2) Import Data and Merge"
   ]
  },
  {
   "cell_type": "code",
   "execution_count": 1,
   "metadata": {},
   "outputs": [],
   "source": [
    "import pandas as pd\n",
    "import json\n",
    "import numpy as np\n",
    "import matplotlib.pyplot as plt\n",
    "import math\n",
    "\n",
    "import warnings\n",
    "warnings.filterwarnings('ignore')"
   ]
  },
  {
   "cell_type": "code",
   "execution_count": 2,
   "metadata": {},
   "outputs": [],
   "source": [
    "auditors_tab = pd.read_csv('auditors.csv')\n",
    "prices_tab = pd.read_csv('prices.csv')\n",
    "\n",
    "with open(\"stores.json\", \"r\") as read_store_file:\n",
    "    data = json.load(read_store_file)\n",
    "stores_tab = pd.DataFrame(data)"
   ]
  },
  {
   "cell_type": "code",
   "execution_count": 3,
   "metadata": {},
   "outputs": [
    {
     "name": "stdout",
     "output_type": "stream",
     "text": [
      "The Prices table has 12315 rows and 5 columns.\n",
      "The Stores table has 28 rows and 3 columns.\n",
      "The Auditors table has 8 rows and 4 columns.\n"
     ]
    }
   ],
   "source": [
    "print ('The Prices table has {} rows and {} columns.'.format(prices_tab.shape[0],prices_tab.shape[1]))\n",
    "print ('The Stores table has {} rows and {} columns.'.format(stores_tab.shape[0],stores_tab.shape[1]))\n",
    "print ('The Auditors table has {} rows and {} columns.'.format(auditors_tab.shape[0],auditors_tab.shape[1]))"
   ]
  },
  {
   "cell_type": "markdown",
   "metadata": {},
   "source": [
    "### Merge tables\n",
    "- I will merge the Prices, Stores, and Auditors tables."
   ]
  },
  {
   "cell_type": "code",
   "execution_count": 4,
   "metadata": {
    "scrolled": true
   },
   "outputs": [
    {
     "name": "stdout",
     "output_type": "stream",
     "text": [
      "The Prices table has 2 store IDs which are not available in the Stores table.\n",
      "\tThose store IDs are: [38472, 60957]\n",
      "The Stores table has 10 store IDs which do not appear in the Prices table.\n",
      "\tThose store IDs are: [29342, 99997, 6746, 50692, 40582, 59582, 66356, 77955, 39284, 11123]\n"
     ]
    }
   ],
   "source": [
    "prices_stores_df = pd.merge(prices_tab, stores_tab, on='Store ID', how='left')\n",
    "tmp = prices_stores_df[prices_stores_df['Banner'].isnull()]['Store ID'].value_counts()\n",
    "print ('The Prices table has {} store IDs which are not available in the Stores table.'.format(len(tmp)))\n",
    "print ('\\tThose store IDs are: {}'.format(list(tmp.index)))\n",
    "\n",
    "prices_stores_df = pd.merge(prices_tab, stores_tab, on='Store ID', how='right')\n",
    "tmp = prices_stores_df[prices_stores_df['Price'].isnull()]['Store ID'].value_counts()\n",
    "print ('The Stores table has {} store IDs which do not appear in the Prices table.'.format(len(tmp)))\n",
    "print ('\\tThose store IDs are: {}'.format(list(tmp.index)))"
   ]
  },
  {
   "cell_type": "markdown",
   "metadata": {},
   "source": [
    "- We need both price and store information. Therefore, the data with the above store IDs are not useful.\n",
    "- Hence, I do 'inner join'."
   ]
  },
  {
   "cell_type": "code",
   "execution_count": 5,
   "metadata": {},
   "outputs": [
    {
     "name": "stdout",
     "output_type": "stream",
     "text": [
      "The merged prices_stores table has 11511 rows and 7 columns\n"
     ]
    }
   ],
   "source": [
    "# Merge prices_tab and stores_tab using inner join\n",
    "prices_stores_df = pd.merge(prices_tab, stores_tab, on='Store ID', how='inner')\n",
    "print ('The merged prices_stores table has {} rows and {} columns'.format(\n",
    "                        prices_stores_df.shape[0],prices_stores_df.shape[1]))"
   ]
  },
  {
   "cell_type": "code",
   "execution_count": 6,
   "metadata": {
    "scrolled": false
   },
   "outputs": [
    {
     "name": "stdout",
     "output_type": "stream",
     "text": [
      "The prices_stores table has 0 Auditor IDs which are not available in the Auditors table.\n"
     ]
    }
   ],
   "source": [
    "# auditors_tab has column named Region, the same name is used in stores_tab\n",
    "# so, let's rename it\n",
    "auditors_tab.rename(columns={'Region':'Region_aud'},inplace=True)\n",
    "\n",
    "# Merge prices_stores_df and auditors_tab using left join\n",
    "prices_stores_aud_df = pd.merge(prices_stores_df, auditors_tab, on='Auditor ID', how='left')\n",
    "tmp = prices_stores_aud_df[prices_stores_aud_df['First'].isnull()]['Auditor ID'].value_counts()\n",
    "print ('The prices_stores table has {} Auditor IDs which are not available in the Auditors table.'.format(len(tmp)))"
   ]
  },
  {
   "cell_type": "markdown",
   "metadata": {},
   "source": [
    "- This is good. All auditors in the prices_stores table have the information available is the Auditors table.\n",
    "- I will just use the 'left join'."
   ]
  },
  {
   "cell_type": "code",
   "execution_count": 7,
   "metadata": {
    "scrolled": true
   },
   "outputs": [
    {
     "data": {
      "text/html": [
       "<div>\n",
       "<style scoped>\n",
       "    .dataframe tbody tr th:only-of-type {\n",
       "        vertical-align: middle;\n",
       "    }\n",
       "\n",
       "    .dataframe tbody tr th {\n",
       "        vertical-align: top;\n",
       "    }\n",
       "\n",
       "    .dataframe thead th {\n",
       "        text-align: right;\n",
       "    }\n",
       "</style>\n",
       "<table border=\"1\" class=\"dataframe\">\n",
       "  <thead>\n",
       "    <tr style=\"text-align: right;\">\n",
       "      <th></th>\n",
       "      <th>Auditor ID</th>\n",
       "      <th>Date</th>\n",
       "      <th>Price</th>\n",
       "      <th>Store ID</th>\n",
       "      <th>UPC</th>\n",
       "      <th>Banner</th>\n",
       "      <th>Region</th>\n",
       "      <th>First</th>\n",
       "      <th>Last</th>\n",
       "      <th>Region_aud</th>\n",
       "    </tr>\n",
       "  </thead>\n",
       "  <tbody>\n",
       "    <tr>\n",
       "      <th>813</th>\n",
       "      <td>98</td>\n",
       "      <td>10/25/17</td>\n",
       "      <td>16.89</td>\n",
       "      <td>39482</td>\n",
       "      <td>286906735</td>\n",
       "      <td>Safeway</td>\n",
       "      <td>Northern California</td>\n",
       "      <td>Jack</td>\n",
       "      <td>Smith</td>\n",
       "      <td>New York</td>\n",
       "    </tr>\n",
       "    <tr>\n",
       "      <th>814</th>\n",
       "      <td>98</td>\n",
       "      <td>10/20/17</td>\n",
       "      <td>8.89</td>\n",
       "      <td>39482</td>\n",
       "      <td>672429356</td>\n",
       "      <td>Safeway</td>\n",
       "      <td>Northern California</td>\n",
       "      <td>Jack</td>\n",
       "      <td>Smith</td>\n",
       "      <td>New York</td>\n",
       "    </tr>\n",
       "    <tr>\n",
       "      <th>815</th>\n",
       "      <td>98</td>\n",
       "      <td>10/22/17</td>\n",
       "      <td>57.69</td>\n",
       "      <td>39482</td>\n",
       "      <td>506754007</td>\n",
       "      <td>Safeway</td>\n",
       "      <td>Northern California</td>\n",
       "      <td>Jack</td>\n",
       "      <td>Smith</td>\n",
       "      <td>New York</td>\n",
       "    </tr>\n",
       "  </tbody>\n",
       "</table>\n",
       "</div>"
      ],
      "text/plain": [
       "     Auditor ID      Date  Price  Store ID        UPC   Banner  \\\n",
       "813          98  10/25/17  16.89     39482  286906735  Safeway   \n",
       "814          98  10/20/17   8.89     39482  672429356  Safeway   \n",
       "815          98  10/22/17  57.69     39482  506754007  Safeway   \n",
       "\n",
       "                  Region First   Last Region_aud  \n",
       "813  Northern California  Jack  Smith   New York  \n",
       "814  Northern California  Jack  Smith   New York  \n",
       "815  Northern California  Jack  Smith   New York  "
      ]
     },
     "execution_count": 7,
     "metadata": {},
     "output_type": "execute_result"
    }
   ],
   "source": [
    "# checking if Region and Region_aud are consistent\n",
    "cond_reg = prices_stores_aud_df['Region'] != prices_stores_aud_df['Region_aud']\n",
    "prices_stores_aud_df[cond_reg].head(3)"
   ]
  },
  {
   "cell_type": "code",
   "execution_count": 8,
   "metadata": {},
   "outputs": [
    {
     "name": "stdout",
     "output_type": "stream",
     "text": [
      "Checking auditors' region inconsistency:\n",
      "  Auditor's info ['Jack'] ['Smith'] ['New York']\n",
      "  Store's info   ['Northern California'] ['Safeway']\n"
     ]
    }
   ],
   "source": [
    "first = prices_stores_aud_df[cond_reg]['First'].value_counts()\n",
    "last = prices_stores_aud_df[cond_reg]['Last'].value_counts()\n",
    "reg_aud = prices_stores_aud_df[cond_reg]['Region_aud'].value_counts()\n",
    "reg = prices_stores_aud_df[cond_reg]['Region'].value_counts()\n",
    "ban = prices_stores_aud_df[cond_reg]['Banner'].value_counts()\n",
    "print ('Checking auditors\\' region inconsistency:')\n",
    "print ('  Auditor\\'s info',list(first.index), list(last.index), list(reg_aud.index))\n",
    "print ('  Store\\'s info  ',list(reg.index), list(ban.index))"
   ]
  },
  {
   "cell_type": "markdown",
   "metadata": {},
   "source": [
    "- There is one inconsistency:\n",
    "    - <font color=blue> Jack Smith from New York recorded data of the store Safeway in Northern California. </font>"
   ]
  },
  {
   "cell_type": "markdown",
   "metadata": {},
   "source": [
    "### Sanity checks, null values, and duplicated"
   ]
  },
  {
   "cell_type": "code",
   "execution_count": 9,
   "metadata": {
    "scrolled": true
   },
   "outputs": [
    {
     "data": {
      "text/html": [
       "<div>\n",
       "<style scoped>\n",
       "    .dataframe tbody tr th:only-of-type {\n",
       "        vertical-align: middle;\n",
       "    }\n",
       "\n",
       "    .dataframe tbody tr th {\n",
       "        vertical-align: top;\n",
       "    }\n",
       "\n",
       "    .dataframe thead th {\n",
       "        text-align: right;\n",
       "    }\n",
       "</style>\n",
       "<table border=\"1\" class=\"dataframe\">\n",
       "  <thead>\n",
       "    <tr style=\"text-align: right;\">\n",
       "      <th></th>\n",
       "      <th>Auditor ID</th>\n",
       "      <th>Date</th>\n",
       "      <th>Price</th>\n",
       "      <th>Store ID</th>\n",
       "      <th>UPC</th>\n",
       "      <th>Banner</th>\n",
       "      <th>Region</th>\n",
       "      <th>First</th>\n",
       "      <th>Last</th>\n",
       "      <th>Region_aud</th>\n",
       "    </tr>\n",
       "  </thead>\n",
       "  <tbody>\n",
       "    <tr>\n",
       "      <th>0</th>\n",
       "      <td>234</td>\n",
       "      <td>10/18/17</td>\n",
       "      <td>24.95</td>\n",
       "      <td>66999</td>\n",
       "      <td>268588472</td>\n",
       "      <td>Walmart</td>\n",
       "      <td>Northern California</td>\n",
       "      <td>Sue</td>\n",
       "      <td>Smith</td>\n",
       "      <td>Northern California</td>\n",
       "    </tr>\n",
       "    <tr>\n",
       "      <th>1</th>\n",
       "      <td>234</td>\n",
       "      <td>10/27/17</td>\n",
       "      <td>49.71</td>\n",
       "      <td>66999</td>\n",
       "      <td>475245085</td>\n",
       "      <td>Walmart</td>\n",
       "      <td>Northern California</td>\n",
       "      <td>Sue</td>\n",
       "      <td>Smith</td>\n",
       "      <td>Northern California</td>\n",
       "    </tr>\n",
       "    <tr>\n",
       "      <th>2</th>\n",
       "      <td>234</td>\n",
       "      <td>10/20/17</td>\n",
       "      <td>25.75</td>\n",
       "      <td>66999</td>\n",
       "      <td>126967843</td>\n",
       "      <td>Walmart</td>\n",
       "      <td>Northern California</td>\n",
       "      <td>Sue</td>\n",
       "      <td>Smith</td>\n",
       "      <td>Northern California</td>\n",
       "    </tr>\n",
       "  </tbody>\n",
       "</table>\n",
       "</div>"
      ],
      "text/plain": [
       "   Auditor ID      Date  Price  Store ID        UPC   Banner  \\\n",
       "0         234  10/18/17  24.95     66999  268588472  Walmart   \n",
       "1         234  10/27/17  49.71     66999  475245085  Walmart   \n",
       "2         234  10/20/17  25.75     66999  126967843  Walmart   \n",
       "\n",
       "                Region First   Last           Region_aud  \n",
       "0  Northern California   Sue  Smith  Northern California  \n",
       "1  Northern California   Sue  Smith  Northern California  \n",
       "2  Northern California   Sue  Smith  Northern California  "
      ]
     },
     "execution_count": 9,
     "metadata": {},
     "output_type": "execute_result"
    }
   ],
   "source": [
    "prices_stores_aud_df.head(3)"
   ]
  },
  {
   "cell_type": "code",
   "execution_count": 10,
   "metadata": {
    "scrolled": true
   },
   "outputs": [
    {
     "data": {
      "text/html": [
       "<div>\n",
       "<style scoped>\n",
       "    .dataframe tbody tr th:only-of-type {\n",
       "        vertical-align: middle;\n",
       "    }\n",
       "\n",
       "    .dataframe tbody tr th {\n",
       "        vertical-align: top;\n",
       "    }\n",
       "\n",
       "    .dataframe thead th {\n",
       "        text-align: right;\n",
       "    }\n",
       "</style>\n",
       "<table border=\"1\" class=\"dataframe\">\n",
       "  <thead>\n",
       "    <tr style=\"text-align: right;\">\n",
       "      <th></th>\n",
       "      <th>Auditor ID</th>\n",
       "      <th>Date</th>\n",
       "      <th>Price</th>\n",
       "      <th>Store ID</th>\n",
       "      <th>UPC</th>\n",
       "      <th>Banner</th>\n",
       "      <th>Region</th>\n",
       "      <th>First</th>\n",
       "      <th>Last</th>\n",
       "      <th>Region_aud</th>\n",
       "    </tr>\n",
       "  </thead>\n",
       "  <tbody>\n",
       "    <tr>\n",
       "      <th>11508</th>\n",
       "      <td>304</td>\n",
       "      <td>10/24/17</td>\n",
       "      <td>4.09</td>\n",
       "      <td>98736</td>\n",
       "      <td>47174618</td>\n",
       "      <td>Whole Foods</td>\n",
       "      <td>Texas</td>\n",
       "      <td>Jerry</td>\n",
       "      <td>Johnson</td>\n",
       "      <td>Texas</td>\n",
       "    </tr>\n",
       "    <tr>\n",
       "      <th>11509</th>\n",
       "      <td>304</td>\n",
       "      <td>10/18/17</td>\n",
       "      <td>35.59</td>\n",
       "      <td>98736</td>\n",
       "      <td>182310151</td>\n",
       "      <td>Whole Foods</td>\n",
       "      <td>Texas</td>\n",
       "      <td>Jerry</td>\n",
       "      <td>Johnson</td>\n",
       "      <td>Texas</td>\n",
       "    </tr>\n",
       "    <tr>\n",
       "      <th>11510</th>\n",
       "      <td>304</td>\n",
       "      <td>10/21/17</td>\n",
       "      <td>37.39</td>\n",
       "      <td>98736</td>\n",
       "      <td>244899396</td>\n",
       "      <td>Whole Foods</td>\n",
       "      <td>Texas</td>\n",
       "      <td>Jerry</td>\n",
       "      <td>Johnson</td>\n",
       "      <td>Texas</td>\n",
       "    </tr>\n",
       "  </tbody>\n",
       "</table>\n",
       "</div>"
      ],
      "text/plain": [
       "       Auditor ID      Date  Price  Store ID        UPC       Banner Region  \\\n",
       "11508         304  10/24/17   4.09     98736   47174618  Whole Foods  Texas   \n",
       "11509         304  10/18/17  35.59     98736  182310151  Whole Foods  Texas   \n",
       "11510         304  10/21/17  37.39     98736  244899396  Whole Foods  Texas   \n",
       "\n",
       "       First     Last Region_aud  \n",
       "11508  Jerry  Johnson      Texas  \n",
       "11509  Jerry  Johnson      Texas  \n",
       "11510  Jerry  Johnson      Texas  "
      ]
     },
     "execution_count": 10,
     "metadata": {},
     "output_type": "execute_result"
    }
   ],
   "source": [
    "prices_stores_aud_df.tail(3)"
   ]
  },
  {
   "cell_type": "code",
   "execution_count": 11,
   "metadata": {
    "scrolled": true
   },
   "outputs": [
    {
     "data": {
      "text/plain": [
       "Auditor ID    0\n",
       "Date          0\n",
       "Price         0\n",
       "Store ID      0\n",
       "UPC           0\n",
       "Banner        0\n",
       "Region        0\n",
       "First         0\n",
       "Last          0\n",
       "Region_aud    0\n",
       "dtype: int64"
      ]
     },
     "execution_count": 11,
     "metadata": {},
     "output_type": "execute_result"
    }
   ],
   "source": [
    "# Check null values\n",
    "prices_stores_aud_df.isnull().sum()"
   ]
  },
  {
   "cell_type": "code",
   "execution_count": 12,
   "metadata": {
    "scrolled": false
   },
   "outputs": [
    {
     "name": "stdout",
     "output_type": "stream",
     "text": [
      "Checking duplicated data...\n",
      "   There is 0 duplicated data.\n"
     ]
    }
   ],
   "source": [
    "#check duplicated\n",
    "print ('Checking duplicated data...')\n",
    "print ('   There is {} duplicated data.'.format(prices_stores_aud_df.duplicated().sum()))"
   ]
  },
  {
   "cell_type": "markdown",
   "metadata": {},
   "source": [
    "- There is no null value.\n",
    "- There is no duplicated data."
   ]
  },
  {
   "cell_type": "code",
   "execution_count": 13,
   "metadata": {},
   "outputs": [
    {
     "name": "stdout",
     "output_type": "stream",
     "text": [
      "After merging the Price, Store, and Auditors tables, there are 11511 rows and 10 columns.\n"
     ]
    }
   ],
   "source": [
    "print ('After merging the Price, Store, and Auditors tables, there are {} rows and {} columns.'.format(\n",
    "                        prices_stores_aud_df.shape[0],prices_stores_aud_df.shape[1]))"
   ]
  },
  {
   "cell_type": "markdown",
   "metadata": {},
   "source": [
    "<a id='sec_eda'></a>\n",
    "## (3) EDA"
   ]
  },
  {
   "cell_type": "code",
   "execution_count": 14,
   "metadata": {
    "scrolled": true
   },
   "outputs": [
    {
     "name": "stdout",
     "output_type": "stream",
     "text": [
      "There are 1000 unique products.\n"
     ]
    }
   ],
   "source": [
    "print ('There are {} unique products.'.format( len(prices_stores_aud_df['UPC'].unique()) ))"
   ]
  },
  {
   "cell_type": "code",
   "execution_count": 15,
   "metadata": {},
   "outputs": [
    {
     "data": {
      "text/plain": [
       "Texas                  3765\n",
       "Kansas                 3087\n",
       "New York               3025\n",
       "Northern California    1634\n",
       "Name: Region, dtype: int64"
      ]
     },
     "execution_count": 15,
     "metadata": {},
     "output_type": "execute_result"
    }
   ],
   "source": [
    "prices_stores_aud_df['Region'].value_counts()"
   ]
  },
  {
   "cell_type": "code",
   "execution_count": 16,
   "metadata": {
    "scrolled": true
   },
   "outputs": [
    {
     "data": {
      "text/plain": [
       "Whole Foods    2802\n",
       "Walmart        2435\n",
       "Wegmans        2249\n",
       "Trader Joes    2062\n",
       "Safeway        1963\n",
       "Name: Banner, dtype: int64"
      ]
     },
     "execution_count": 16,
     "metadata": {},
     "output_type": "execute_result"
    }
   ],
   "source": [
    "prices_stores_aud_df['Banner'].value_counts()"
   ]
  },
  {
   "cell_type": "markdown",
   "metadata": {},
   "source": [
    "There are \n",
    "- 1000 unique products\n",
    "- 4 unique regions\n",
    "- 5 unique banners"
   ]
  },
  {
   "cell_type": "markdown",
   "metadata": {},
   "source": [
    "### Look at the Price\n",
    "- Since our target variable is the price, it is always good to look at its distribution."
   ]
  },
  {
   "cell_type": "code",
   "execution_count": 17,
   "metadata": {
    "scrolled": true
   },
   "outputs": [
    {
     "data": {
      "image/png": "[encoded data removed]",
      "text/plain": [
       "<Figure size 720x360 with 1 Axes>"
      ]
     },
     "metadata": {
      "needs_background": "light"
     },
     "output_type": "display_data"
    }
   ],
   "source": [
    "_ = plt.figure(figsize=(10, 5))\n",
    "_ = plt.hist( prices_stores_aud_df['Price'], bins= 40)\n",
    "_ = plt.xlabel(\"Price ($)\")\n",
    "_ = plt.ylabel(\"Counts\")\n",
    "_ = plt.title(\"Histogram of the Price\")"
   ]
  },
  {
   "cell_type": "markdown",
   "metadata": {},
   "source": [
    "- <font color=blue>There is a suspiciously high number of counts with the price of ~ $0-3. I will look closely into this.</font>"
   ]
  },
  {
   "cell_type": "code",
   "execution_count": 18,
   "metadata": {
    "scrolled": false
   },
   "outputs": [
    {
     "data": {
      "image/png": "[encoded data removed]",
      "text/plain": [
       "<Figure size 720x360 with 1 Axes>"
      ]
     },
     "metadata": {
      "needs_background": "light"
     },
     "output_type": "display_data"
    }
   ],
   "source": [
    "start_index = 0\n",
    "end_index = prices_stores_aud_df.index[-1]\n",
    "x_var = prices_stores_aud_df.index[start_index:end_index+1]\n",
    "y_var = prices_stores_aud_df['Price'].loc[start_index:end_index+1]\n",
    "_ = plt.figure(figsize=(10, 5))\n",
    "_ = plt.scatter(x_var,y_var, )\n",
    "_ = plt.xlabel(\"index\")\n",
    "_ = plt.ylabel(\"Price ($)\")"
   ]
  },
  {
   "cell_type": "markdown",
   "metadata": {},
   "source": [
    "### What are those low prices?\n",
    "- Those are data at the index of ~6500-8000.\n",
    "- After taking a close look, by changing start_index, end_index, I found the following.\n",
    "    - There are unusual prices of $1.99 recorded, starting from index 6833-7745.\n",
    "    \n",
    "        - These are recorded at the store ID: 39287 ('Whole Foods' & 'Kansas')\n",
    "    \n",
    "        - There are 912 records with a price of $1.99.\n",
    "    \n",
    "        - There is also a record of $1.49."
   ]
  },
  {
   "cell_type": "code",
   "execution_count": 19,
   "metadata": {},
   "outputs": [
    {
     "data": {
      "text/html": [
       "<div>\n",
       "<style scoped>\n",
       "    .dataframe tbody tr th:only-of-type {\n",
       "        vertical-align: middle;\n",
       "    }\n",
       "\n",
       "    .dataframe tbody tr th {\n",
       "        vertical-align: top;\n",
       "    }\n",
       "\n",
       "    .dataframe thead th {\n",
       "        text-align: right;\n",
       "    }\n",
       "</style>\n",
       "<table border=\"1\" class=\"dataframe\">\n",
       "  <thead>\n",
       "    <tr style=\"text-align: right;\">\n",
       "      <th></th>\n",
       "      <th>Auditor ID</th>\n",
       "      <th>Date</th>\n",
       "      <th>Price</th>\n",
       "      <th>Store ID</th>\n",
       "      <th>UPC</th>\n",
       "      <th>Banner</th>\n",
       "      <th>Region</th>\n",
       "      <th>First</th>\n",
       "      <th>Last</th>\n",
       "      <th>Region_aud</th>\n",
       "    </tr>\n",
       "  </thead>\n",
       "  <tbody>\n",
       "    <tr>\n",
       "      <th>6833</th>\n",
       "      <td>713</td>\n",
       "      <td>10/24/17</td>\n",
       "      <td>1.99</td>\n",
       "      <td>39287</td>\n",
       "      <td>557031026</td>\n",
       "      <td>Whole Foods</td>\n",
       "      <td>Kansas</td>\n",
       "      <td>Dave</td>\n",
       "      <td>Johnson</td>\n",
       "      <td>Kansas</td>\n",
       "    </tr>\n",
       "    <tr>\n",
       "      <th>6834</th>\n",
       "      <td>713</td>\n",
       "      <td>10/29/17</td>\n",
       "      <td>1.99</td>\n",
       "      <td>39287</td>\n",
       "      <td>866698043</td>\n",
       "      <td>Whole Foods</td>\n",
       "      <td>Kansas</td>\n",
       "      <td>Dave</td>\n",
       "      <td>Johnson</td>\n",
       "      <td>Kansas</td>\n",
       "    </tr>\n",
       "    <tr>\n",
       "      <th>6835</th>\n",
       "      <td>713</td>\n",
       "      <td>10/27/17</td>\n",
       "      <td>1.99</td>\n",
       "      <td>39287</td>\n",
       "      <td>514730047</td>\n",
       "      <td>Whole Foods</td>\n",
       "      <td>Kansas</td>\n",
       "      <td>Dave</td>\n",
       "      <td>Johnson</td>\n",
       "      <td>Kansas</td>\n",
       "    </tr>\n",
       "  </tbody>\n",
       "</table>\n",
       "</div>"
      ],
      "text/plain": [
       "      Auditor ID      Date  Price  Store ID        UPC       Banner  Region  \\\n",
       "6833         713  10/24/17   1.99     39287  557031026  Whole Foods  Kansas   \n",
       "6834         713  10/29/17   1.99     39287  866698043  Whole Foods  Kansas   \n",
       "6835         713  10/27/17   1.99     39287  514730047  Whole Foods  Kansas   \n",
       "\n",
       "     First     Last Region_aud  \n",
       "6833  Dave  Johnson     Kansas  \n",
       "6834  Dave  Johnson     Kansas  \n",
       "6835  Dave  Johnson     Kansas  "
      ]
     },
     "execution_count": 19,
     "metadata": {},
     "output_type": "execute_result"
    }
   ],
   "source": [
    "prices_stores_aud_df.loc[6833:7745].head(3)"
   ]
  },
  {
   "cell_type": "code",
   "execution_count": 20,
   "metadata": {},
   "outputs": [
    {
     "data": {
      "text/plain": [
       "39287    913\n",
       "Name: Store ID, dtype: int64"
      ]
     },
     "execution_count": 20,
     "metadata": {},
     "output_type": "execute_result"
    }
   ],
   "source": [
    "prices_stores_aud_df.loc[6833:7745]['Store ID'].value_counts()"
   ]
  },
  {
   "cell_type": "code",
   "execution_count": 21,
   "metadata": {
    "scrolled": true
   },
   "outputs": [
    {
     "data": {
      "text/plain": [
       "1.99    912\n",
       "1.49      1\n",
       "Name: Price, dtype: int64"
      ]
     },
     "execution_count": 21,
     "metadata": {},
     "output_type": "execute_result"
    }
   ],
   "source": [
    "prices_stores_aud_df[prices_stores_aud_df['Store ID'] == 39287]['Price'].value_counts()"
   ]
  },
  {
   "cell_type": "markdown",
   "metadata": {},
   "source": [
    "### Removing the suspicious values\n",
    "   - These suspicious values seem to be incorrectly recorded at 'Store ID' = 39287"
   ]
  },
  {
   "cell_type": "code",
   "execution_count": 22,
   "metadata": {},
   "outputs": [],
   "source": [
    "# remove the data with Store ID = 39287\n",
    "cond_199 = prices_stores_aud_df['Store ID'] != 39287\n",
    "prices_stores_df_clean = prices_stores_aud_df[cond_199] # let's keep the original index here"
   ]
  },
  {
   "cell_type": "code",
   "execution_count": 23,
   "metadata": {},
   "outputs": [
    {
     "name": "stdout",
     "output_type": "stream",
     "text": [
      "After data cleaning, the data has 10598 rows and 10 columns\n"
     ]
    }
   ],
   "source": [
    "print ('After data cleaning, the data has {} rows and {} columns'.format(\n",
    "                                        prices_stores_df_clean.shape[0], prices_stores_df_clean.shape[1]))"
   ]
  },
  {
   "cell_type": "code",
   "execution_count": 24,
   "metadata": {
    "scrolled": true
   },
   "outputs": [
    {
     "name": "stdout",
     "output_type": "stream",
     "text": [
      "<class 'pandas.core.frame.DataFrame'>\n",
      "Int64Index: 10598 entries, 0 to 11510\n",
      "Data columns (total 10 columns):\n",
      "Auditor ID    10598 non-null int64\n",
      "Date          10598 non-null object\n",
      "Price         10598 non-null float64\n",
      "Store ID      10598 non-null int64\n",
      "UPC           10598 non-null int64\n",
      "Banner        10598 non-null object\n",
      "Region        10598 non-null object\n",
      "First         10598 non-null object\n",
      "Last          10598 non-null object\n",
      "Region_aud    10598 non-null object\n",
      "dtypes: float64(1), int64(3), object(6)\n",
      "memory usage: 910.8+ KB\n"
     ]
    }
   ],
   "source": [
    "# checking null values and value types for the last time  \n",
    "prices_stores_df_clean.info()"
   ]
  },
  {
   "cell_type": "markdown",
   "metadata": {},
   "source": [
    "#### Histogram after data cleaning"
   ]
  },
  {
   "cell_type": "code",
   "execution_count": 25,
   "metadata": {},
   "outputs": [
    {
     "data": {
      "image/png": "[encoded data removed]",
      "text/plain": [
       "<Figure size 720x360 with 1 Axes>"
      ]
     },
     "metadata": {
      "needs_background": "light"
     },
     "output_type": "display_data"
    }
   ],
   "source": [
    "_ = plt.figure(figsize=(10, 5))\n",
    "_ = plt.hist( prices_stores_df_clean['Price'], bins= 40)\n",
    "_ = plt.xlabel(\"Price ($)\")\n",
    "_ = plt.ylabel(\"Counts\")\n",
    "_ = plt.title(\"Histogram of the Price\")"
   ]
  },
  {
   "cell_type": "markdown",
   "metadata": {},
   "source": [
    "<a id='sec_model'></a>\n",
    "## (4) Build a Model\n"
   ]
  },
  {
   "cell_type": "code",
   "execution_count": 26,
   "metadata": {
    "scrolled": true
   },
   "outputs": [
    {
     "data": {
      "text/html": [
       "<div>\n",
       "<style scoped>\n",
       "    .dataframe tbody tr th:only-of-type {\n",
       "        vertical-align: middle;\n",
       "    }\n",
       "\n",
       "    .dataframe tbody tr th {\n",
       "        vertical-align: top;\n",
       "    }\n",
       "\n",
       "    .dataframe thead th {\n",
       "        text-align: right;\n",
       "    }\n",
       "</style>\n",
       "<table border=\"1\" class=\"dataframe\">\n",
       "  <thead>\n",
       "    <tr style=\"text-align: right;\">\n",
       "      <th></th>\n",
       "      <th>Auditor ID</th>\n",
       "      <th>Date</th>\n",
       "      <th>Price</th>\n",
       "      <th>Store ID</th>\n",
       "      <th>UPC</th>\n",
       "      <th>Banner</th>\n",
       "      <th>Region</th>\n",
       "      <th>First</th>\n",
       "      <th>Last</th>\n",
       "      <th>Region_aud</th>\n",
       "    </tr>\n",
       "  </thead>\n",
       "  <tbody>\n",
       "    <tr>\n",
       "      <th>0</th>\n",
       "      <td>234</td>\n",
       "      <td>10/18/17</td>\n",
       "      <td>24.95</td>\n",
       "      <td>66999</td>\n",
       "      <td>268588472</td>\n",
       "      <td>Walmart</td>\n",
       "      <td>Northern California</td>\n",
       "      <td>Sue</td>\n",
       "      <td>Smith</td>\n",
       "      <td>Northern California</td>\n",
       "    </tr>\n",
       "    <tr>\n",
       "      <th>1</th>\n",
       "      <td>234</td>\n",
       "      <td>10/27/17</td>\n",
       "      <td>49.71</td>\n",
       "      <td>66999</td>\n",
       "      <td>475245085</td>\n",
       "      <td>Walmart</td>\n",
       "      <td>Northern California</td>\n",
       "      <td>Sue</td>\n",
       "      <td>Smith</td>\n",
       "      <td>Northern California</td>\n",
       "    </tr>\n",
       "    <tr>\n",
       "      <th>2</th>\n",
       "      <td>234</td>\n",
       "      <td>10/20/17</td>\n",
       "      <td>25.75</td>\n",
       "      <td>66999</td>\n",
       "      <td>126967843</td>\n",
       "      <td>Walmart</td>\n",
       "      <td>Northern California</td>\n",
       "      <td>Sue</td>\n",
       "      <td>Smith</td>\n",
       "      <td>Northern California</td>\n",
       "    </tr>\n",
       "  </tbody>\n",
       "</table>\n",
       "</div>"
      ],
      "text/plain": [
       "   Auditor ID      Date  Price  Store ID        UPC   Banner  \\\n",
       "0         234  10/18/17  24.95     66999  268588472  Walmart   \n",
       "1         234  10/27/17  49.71     66999  475245085  Walmart   \n",
       "2         234  10/20/17  25.75     66999  126967843  Walmart   \n",
       "\n",
       "                Region First   Last           Region_aud  \n",
       "0  Northern California   Sue  Smith  Northern California  \n",
       "1  Northern California   Sue  Smith  Northern California  \n",
       "2  Northern California   Sue  Smith  Northern California  "
      ]
     },
     "execution_count": 26,
     "metadata": {},
     "output_type": "execute_result"
    }
   ],
   "source": [
    "prices_stores_df_clean.head(3)"
   ]
  },
  {
   "cell_type": "markdown",
   "metadata": {},
   "source": [
    "### Preparing target variable and features"
   ]
  },
  {
   "cell_type": "code",
   "execution_count": 27,
   "metadata": {
    "scrolled": true
   },
   "outputs": [],
   "source": [
    "# calulcate the ln() of the Price\n",
    "prices_stores_df_clean['ln_Price'] = prices_stores_df_clean['Price'].apply(lambda x: math.log(x))"
   ]
  },
  {
   "cell_type": "code",
   "execution_count": 28,
   "metadata": {},
   "outputs": [],
   "source": [
    "x_vars = prices_stores_df_clean[['UPC','Banner','Region']]\n",
    "# make product UPC values be string so that we can do one-hot encoded\n",
    "x_vars['UPC'] = x_vars['UPC'].astype(str)\n",
    "# one-hot encoded all categories \n",
    "df_x_dum = pd.get_dummies(x_vars)\n",
    "\n",
    "y_lnPrice = prices_stores_df_clean['ln_Price'] # this is a series"
   ]
  },
  {
   "cell_type": "markdown",
   "metadata": {},
   "source": [
    "### Fitting a linear regression model\n",
    "- My model has intercept value = 0.\n",
    "- Since we want to detect anomaly in this specific data set, ***I use all data in the training and I do not expect the trained model to apply to other data sets.***"
   ]
  },
  {
   "cell_type": "code",
   "execution_count": 29,
   "metadata": {},
   "outputs": [
    {
     "name": "stdout",
     "output_type": "stream",
     "text": [
      "                            OLS Regression Results                            \n",
      "==============================================================================\n",
      "Dep. Variable:               ln_Price   R-squared:                       1.000\n",
      "Model:                            OLS   Adj. R-squared:                  1.000\n",
      "Method:                 Least Squares   F-statistic:                 6.662e+04\n",
      "Date:                Thu, 09 Jan 2020   Prob (F-statistic):               0.00\n",
      "Time:                        19:58:37   Log-Likelihood:                 33517.\n",
      "No. Observations:               10598   AIC:                        -6.502e+04\n",
      "Df Residuals:                    9591   BIC:                        -5.770e+04\n",
      "Df Model:                        1006                                         \n",
      "Covariance Type:            nonrobust                                         \n",
      "==============================================================================================\n",
      "                                 coef    std err          t      P>|t|      [0.025      0.975]\n",
      "----------------------------------------------------------------------------------------------\n",
      "UPC_101201265                  0.7144      0.003    220.187      0.000       0.708       0.721\n",
      "UPC_105664025                 -0.0416      0.003    -12.234      0.000      -0.048      -0.035\n",
      "UPC_106365705                 -0.1411      0.003    -41.465      0.000      -0.148      -0.134\n",
      "UPC_106599165                  0.4530      0.004    126.309      0.000       0.446       0.460\n",
      "UPC_106918220                 -0.0003      0.004     -0.095      0.924      -0.007       0.007\n",
      "UPC_107865183                  0.3195      0.003    102.865      0.000       0.313       0.326\n",
      "UPC_109076038                  0.4073      0.004    100.159      0.000       0.399       0.415\n",
      "UPC_110354720                 -0.4076      0.003   -119.785      0.000      -0.414      -0.401\n",
      "UPC_110497121                 -0.0620      0.004    -17.300      0.000      -0.069      -0.055\n",
      "UPC_111650456                  0.8716      0.004    229.161      0.000       0.864       0.879\n",
      "UPC_112509592                  0.5494      0.003    176.874      0.000       0.543       0.556\n",
      "UPC_112817865                  0.8658      0.003    254.448      0.000       0.859       0.872\n",
      "UPC_113224794                  0.4819      0.003    148.535      0.000       0.476       0.488\n",
      "UPC_113921219                 -0.2043      0.003    -60.048      0.000      -0.211      -0.198\n",
      "UPC_115104280                 -0.1928      0.004    -53.749      0.000      -0.200      -0.186\n",
      "UPC_115681900                  0.2454      0.004     60.349      0.000       0.237       0.253\n",
      "UPC_118708197                 -0.1053      0.004    -29.371      0.000      -0.112      -0.098\n",
      "UPC_11873171                  -1.5129      0.004   -421.807      0.000      -1.520      -1.506\n",
      "UPC_119616993                  0.3132      0.003    100.821      0.000       0.307       0.319\n",
      "UPC_120290503                 -0.8366      0.003   -269.327      0.000      -0.843      -0.831\n",
      "UPC_120596009                  0.8090      0.004    225.555      0.000       0.802       0.816\n",
      "UPC_121620235                  0.8902      0.003    274.373      0.000       0.884       0.897\n",
      "UPC_122484761                  0.3747      0.003    110.123      0.000       0.368       0.381\n",
      "UPC_124052151                 -0.1643      0.003    -52.898      0.000      -0.170      -0.158\n",
      "UPC_124091247                  0.8065      0.003    237.056      0.000       0.800       0.813\n",
      "UPC_125829867                 -0.4885      0.003   -150.562      0.000      -0.495      -0.482\n",
      "UPC_126967843                  0.0316      0.003     10.586      0.000       0.026       0.037\n",
      "UPC_127821311                 -0.1564      0.003    -45.977      0.000      -0.163      -0.150\n",
      "UPC_127838957                  0.5328      0.003    171.535      0.000       0.527       0.539\n",
      "UPC_127887048                 -0.9844      0.004   -274.460      0.000      -0.991      -0.977\n",
      "UPC_129232150                 -0.0998      0.003    -29.345      0.000      -0.107      -0.093\n",
      "UPC_129833275                  0.1435      0.003     46.212      0.000       0.137       0.150\n",
      "UPC_130186387                 -0.1525      0.003    -44.806      0.000      -0.159      -0.146\n",
      "UPC_130318597                  0.9042      0.004    237.697      0.000       0.897       0.912\n",
      "UPC_130358296                  0.3198      0.003    107.142      0.000       0.314       0.326\n",
      "UPC_131820869                  0.8083      0.003    270.833      0.000       0.802       0.814\n",
      "UPC_132112942                  0.8982      0.004    220.888      0.000       0.890       0.906\n",
      "UPC_132458395                  0.2752      0.003     88.593      0.000       0.269       0.281\n",
      "UPC_136528713                 -0.5202      0.003   -160.356      0.000      -0.527      -0.514\n",
      "UPC_142231691                 -0.5707      0.003   -183.750      0.000      -0.577      -0.565\n",
      "UPC_142252924                  0.2379      0.003     76.572      0.000       0.232       0.244\n",
      "UPC_144575642                 -0.2957      0.003    -99.067      0.000      -0.302      -0.290\n",
      "UPC_144644625                  0.8683      0.003    267.645      0.000       0.862       0.875\n",
      "UPC_145210517                  0.7366      0.003    227.063      0.000       0.730       0.743\n",
      "UPC_146021511                  0.6619      0.004    184.570      0.000       0.655       0.669\n",
      "UPC_15052612                   0.8317      0.003    244.466      0.000       0.825       0.838\n",
      "UPC_151145905                  0.1368      0.003     40.191      0.000       0.130       0.143\n",
      "UPC_151287985                 -0.1499      0.004    -41.790      0.000      -0.157      -0.143\n",
      "UPC_152181269                  0.5441      0.003    159.931      0.000       0.537       0.551\n",
      "UPC_152398257                 -1.3943      0.004   -388.746      0.000      -1.401      -1.387\n",
      "UPC_152458350                 -0.2740      0.003    -80.524      0.000      -0.281      -0.267\n",
      "UPC_154602616                  0.1512      0.003     46.604      0.000       0.145       0.158\n",
      "UPC_157129774                 -1.2004      0.003   -402.180      0.000      -1.206      -1.195\n",
      "UPC_157966725                 -0.2879      0.003    -84.630      0.000      -0.295      -0.281\n",
      "UPC_158953776                  0.9261      0.003    310.300      0.000       0.920       0.932\n",
      "UPC_160430177                  0.9217      0.003    308.818      0.000       0.916       0.928\n",
      "UPC_161076622                  0.9105      0.003    280.670      0.000       0.904       0.917\n",
      "UPC_161725486                  0.4470      0.003    143.896      0.000       0.441       0.453\n",
      "UPC_162045248                  0.8866      0.003    273.306      0.000       0.880       0.893\n",
      "UPC_162356142                  0.7058      0.003    236.503      0.000       0.700       0.712\n",
      "UPC_163383455                 -1.4118      0.003   -435.162      0.000      -1.418      -1.405\n",
      "UPC_163809044                  0.4356      0.003    140.205      0.000       0.429       0.442\n",
      "UPC_164485660                  0.4617      0.003    148.631      0.000       0.456       0.468\n",
      "UPC_16482322                  -0.2724      0.004    -75.948      0.000      -0.279      -0.265\n",
      "UPC_165254790                  0.3261      0.003     95.860      0.000       0.319       0.333\n",
      "UPC_165324638                  0.9220      0.004    257.102      0.000       0.915       0.929\n",
      "UPC_165526080                 -1.8758      0.003   -551.263      0.000      -1.882      -1.869\n",
      "UPC_165559469                  0.2638      0.003     81.312      0.000       0.257       0.270\n",
      "UPC_16729338                  -1.0791      0.003   -375.173      0.000      -1.085      -1.073\n",
      "UPC_16829288                  -1.8817      0.004   -494.649      0.000      -1.889      -1.874\n",
      "UPC_16900911                   0.2169      0.003     66.862      0.000       0.211       0.223\n",
      "UPC_169472387                  0.7253      0.003    223.569      0.000       0.719       0.732\n",
      "UPC_16999755                  -1.4926      0.003   -518.934      0.000      -1.498      -1.487\n",
      "UPC_17066659                  -2.0372      0.003   -682.602      0.000      -2.043      -2.031\n",
      "UPC_171059624                  0.3833      0.004    100.766      0.000       0.376       0.391\n",
      "UPC_171858013                  0.2164      0.003     66.704      0.000       0.210       0.223\n",
      "UPC_172380215                  0.4970      0.003    160.007      0.000       0.491       0.503\n",
      "UPC_173173585                  0.6275      0.003    193.434      0.000       0.621       0.634\n",
      "UPC_174429227                  0.6193      0.004    162.784      0.000       0.612       0.627\n",
      "UPC_176351627                  0.8289      0.004    231.126      0.000       0.822       0.836\n",
      "UPC_177925497                  0.6949      0.004    193.747      0.000       0.688       0.702\n",
      "UPC_178923336                 -0.4993      0.004   -131.283      0.000      -0.507      -0.492\n",
      "UPC_182310151                  0.3480      0.003    112.020      0.000       0.342       0.354\n",
      "UPC_186497742                  0.0875      0.003     25.728      0.000       0.081       0.094\n",
      "UPC_187405236                  0.5643      0.003    181.649      0.000       0.558       0.570\n",
      "UPC_189054973                  0.3957      0.003    132.576      0.000       0.390       0.402\n",
      "UPC_189565540                  0.6133      0.003    189.058      0.000       0.607       0.620\n",
      "UPC_193724353                  0.5918      0.003    173.948      0.000       0.585       0.599\n",
      "UPC_193736714                  0.8787      0.003    270.857      0.000       0.872       0.885\n",
      "UPC_196109651                  0.4678      0.003    150.595      0.000       0.462       0.474\n",
      "UPC_196407931                 -1.0543      0.004   -293.957      0.000      -1.061      -1.047\n",
      "UPC_19696884                  -1.3873      0.004   -341.173      0.000      -1.395      -1.379\n",
      "UPC_197321036                  0.2186      0.004     57.458      0.000       0.211       0.226\n",
      "UPC_198082596                 -3.6849      0.004   -968.630      0.000      -3.692      -3.677\n",
      "UPC_19911643                   0.2583      0.003     83.151      0.000       0.252       0.264\n",
      "UPC_19982129                   0.1535      0.003     47.322      0.000       0.147       0.160\n",
      "UPC_200021055                 -2.3280      0.004   -649.150      0.000      -2.335      -2.321\n",
      "UPC_200253393                  0.7647      0.003    235.731      0.000       0.758       0.771\n",
      "UPC_200282631                  0.1375      0.005     28.574      0.000       0.128       0.147\n",
      "UPC_200809424                  0.6434      0.003    198.343      0.000       0.637       0.650\n",
      "UPC_201346142                  0.6664      0.004    163.861      0.000       0.658       0.674\n",
      "UPC_204071291                  0.2041      0.003     59.973      0.000       0.197       0.211\n",
      "UPC_205698731                 -1.8534      0.003   -596.695      0.000      -1.860      -1.847\n",
      "UPC_205812283                  0.5484      0.003    169.029      0.000       0.542       0.555\n",
      "UPC_207648093                 -1.0700      0.003   -329.772      0.000      -1.076      -1.064\n",
      "UPC_212886542                  0.4294      0.003    132.370      0.000       0.423       0.436\n",
      "UPC_213048650                 -0.2116      0.004    -58.996      0.000      -0.219      -0.205\n",
      "UPC_213387822                  0.4082      0.003    136.763      0.000       0.402       0.414\n",
      "UPC_214212433                  0.8309      0.004    218.451      0.000       0.823       0.838\n",
      "UPC_215480572                 -0.3649      0.003   -122.253      0.000      -0.371      -0.359\n",
      "UPC_217512347                  0.1510      0.003     44.371      0.000       0.144       0.158\n",
      "UPC_218294289                  0.8607      0.003    277.086      0.000       0.855       0.867\n",
      "UPC_21872584                  -1.0756      0.003   -360.384      0.000      -1.081      -1.070\n",
      "UPC_218958254                 -0.6773      0.003   -208.758      0.000      -0.684      -0.671\n",
      "UPC_220433295                 -0.1347      0.003    -45.142      0.000      -0.141      -0.129\n",
      "UPC_220677427                  0.9297      0.004    259.215      0.000       0.923       0.937\n",
      "UPC_22132676                  -1.4659      0.004   -360.507      0.000      -1.474      -1.458\n",
      "UPC_221349675                  0.4675      0.003    150.506      0.000       0.461       0.474\n",
      "UPC_222180587                 -0.9622      0.004   -236.632      0.000      -0.970      -0.954\n",
      "UPC_222633181                  0.4861      0.003    142.870      0.000       0.479       0.493\n",
      "UPC_223905761                  0.6837      0.003    200.949      0.000       0.677       0.690\n",
      "UPC_224558960                  0.7708      0.003    248.171      0.000       0.765       0.777\n",
      "UPC_226008184                 -0.9971      0.003   -293.065      0.000      -1.004      -0.990\n",
      "UPC_226080317                 -2.4345      0.004   -678.793      0.000      -2.442      -2.427\n",
      "UPC_227635624                 -1.2365      0.003   -414.336      0.000      -1.242      -1.231\n",
      "UPC_227818213                  0.8664      0.003    267.050      0.000       0.860       0.873\n",
      "UPC_228431403                  0.2509      0.003     84.077      0.000       0.245       0.257\n",
      "UPC_228591095                  0.2696      0.004     70.890      0.000       0.262       0.277\n",
      "UPC_229341656                  0.5124      0.004    142.862      0.000       0.505       0.519\n",
      "UPC_22976162                   0.7479      0.003    250.582      0.000       0.742       0.754\n",
      "UPC_230451071                  0.0212      0.003      6.235      0.000       0.015       0.028\n",
      "UPC_234033889                 -0.2941      0.003    -94.691      0.000      -0.300      -0.288\n",
      "UPC_234070455                 -1.1377      0.003   -350.699      0.000      -1.144      -1.131\n",
      "UPC_23493525                   0.1092      0.003     35.158      0.000       0.103       0.115\n",
      "UPC_236468029                 -1.5747      0.003   -506.938      0.000      -1.581      -1.569\n",
      "UPC_236677062                  0.8792      0.003    283.051      0.000       0.873       0.885\n",
      "UPC_236968723                 -0.1092      0.004    -30.442      0.000      -0.116      -0.102\n",
      "UPC_237280009                  0.4860      0.004    135.505      0.000       0.479       0.493\n",
      "UPC_238245641                 -1.4493      0.004   -404.085      0.000      -1.456      -1.442\n",
      "UPC_238441424                  0.3523      0.003    103.541      0.000       0.346       0.359\n",
      "UPC_238497653                  0.4808      0.003    148.218      0.000       0.474       0.487\n",
      "UPC_240879755                  0.3464      0.003    111.518      0.000       0.340       0.352\n",
      "UPC_240924482                  0.3324      0.004     92.695      0.000       0.325       0.339\n",
      "UPC_242277190                  0.8045      0.004    224.343      0.000       0.797       0.812\n",
      "UPC_242743338                  0.6384      0.003    196.760      0.000       0.632       0.645\n",
      "UPC_243131192                 -2.2707      0.003   -731.009      0.000      -2.277      -2.265\n",
      "UPC_243785066                  0.4960      0.004    112.934      0.000       0.487       0.505\n",
      "UPC_243934119                 -0.5480      0.004   -144.043      0.000      -0.555      -0.541\n",
      "UPC_244294577                  0.3497      0.003    102.779      0.000       0.343       0.356\n",
      "UPC_244899396                  0.3992      0.004     98.173      0.000       0.391       0.407\n",
      "UPC_245619737                 -0.0161      0.003     -5.187      0.000      -0.022      -0.010\n",
      "UPC_246582548                  0.7086      0.003    208.251      0.000       0.702       0.715\n",
      "UPC_246585815                 -0.4664      0.003   -143.758      0.000      -0.473      -0.460\n",
      "UPC_24764365                  -0.2625      0.003    -77.150      0.000      -0.269      -0.256\n",
      "UPC_248544810                  0.3392      0.004     94.601      0.000       0.332       0.346\n",
      "UPC_25023603                  -0.4455      0.003   -130.947      0.000      -0.452      -0.439\n",
      "UPC_250622702                  0.4930      0.003    171.429      0.000       0.487       0.499\n",
      "UPC_251180255                 -0.5320      0.003   -163.974      0.000      -0.538      -0.526\n",
      "UPC_252280717                 -0.3918      0.003   -115.139      0.000      -0.398      -0.385\n",
      "UPC_252888653                 -0.5651      0.003   -174.205      0.000      -0.572      -0.559\n",
      "UPC_25313327                  -0.3055      0.003    -98.372      0.000      -0.312      -0.299\n",
      "UPC_253141402                  0.4138      0.003    121.609      0.000       0.407       0.420\n",
      "UPC_254804864                  0.9009      0.003    290.056      0.000       0.895       0.907\n",
      "UPC_256001467                  0.0792      0.004     22.089      0.000       0.072       0.086\n",
      "UPC_256779462                  0.1582      0.003     46.499      0.000       0.152       0.165\n",
      "UPC_256906423                 -0.8546      0.004   -210.156      0.000      -0.863      -0.847\n",
      "UPC_258597638                  0.5695      0.003    183.334      0.000       0.563       0.576\n",
      "UPC_259287413                 -0.7382      0.004   -181.543      0.000      -0.746      -0.730\n",
      "UPC_26132370                  -0.1609      0.004    -44.871      0.000      -0.168      -0.154\n",
      "UPC_262051609                  0.0230      0.003      7.418      0.000       0.017       0.029\n",
      "UPC_265077864                 -0.9244      0.003   -297.560      0.000      -0.930      -0.918\n",
      "UPC_265291556                  0.0828      0.004     23.080      0.000       0.076       0.090\n",
      "UPC_266112120                 -1.6293      0.003   -478.904      0.000      -1.636      -1.623\n",
      "UPC_266425823                  0.4023      0.004    105.745      0.000       0.395       0.410\n",
      "UPC_266788198                  0.8910      0.003    298.540      0.000       0.885       0.897\n",
      "UPC_26791818                  -0.7847      0.003   -241.894      0.000      -0.791      -0.778\n",
      "UPC_268588472                  0.0027      0.003      0.805      0.421      -0.004       0.009\n",
      "UPC_269161785                  0.7058      0.003    236.481      0.000       0.700       0.712\n",
      "UPC_269567447                  0.9144      0.003    294.337      0.000       0.908       0.920\n",
      "UPC_26959766                   0.8400      0.003    246.876      0.000       0.833       0.847\n",
      "UPC_270412866                  0.7933      0.004    221.198      0.000       0.786       0.800\n",
      "UPC_271202170                  0.3008      0.004     83.869      0.000       0.294       0.308\n",
      "UPC_272466316                  0.8179      0.003    274.064      0.000       0.812       0.824\n",
      "UPC_273984951                  0.7711      0.003    258.347      0.000       0.765       0.777\n",
      "UPC_275219414                  0.6706      0.003    224.692      0.000       0.665       0.676\n",
      "UPC_27595398                  -1.0028      0.004   -263.654      0.000      -1.010      -0.995\n",
      "UPC_276263379                  0.5851      0.003    180.364      0.000       0.579       0.591\n",
      "UPC_276801250                  0.9259      0.003    298.079      0.000       0.920       0.932\n",
      "UPC_277014097                  0.1648      0.003     53.042      0.000       0.159       0.171\n",
      "UPC_277132090                 -1.2886      0.003   -378.732      0.000      -1.295      -1.282\n",
      "UPC_277394644                 -0.1096      0.003    -32.213      0.000      -0.116      -0.103\n",
      "UPC_278001228                 -0.5503      0.003   -161.721      0.000      -0.557      -0.544\n",
      "UPC_278003538                  0.1465      0.004     40.863      0.000       0.140       0.154\n",
      "UPC_278354885                 -0.3140      0.003   -109.158      0.000      -0.320      -0.308\n",
      "UPC_27866264                   0.8756      0.003    269.897      0.000       0.869       0.882\n",
      "UPC_278739906                 -3.1686      0.003   -976.711      0.000      -3.175      -3.162\n",
      "UPC_283434497                  0.1678      0.003     49.325      0.000       0.161       0.174\n",
      "UPC_284293391                  0.8363      0.004    233.182      0.000       0.829       0.843\n",
      "UPC_285189163                 -0.1955      0.004    -51.400      0.000      -0.203      -0.188\n",
      "UPC_285195716                  0.5639      0.004    157.231      0.000       0.557       0.571\n",
      "UPC_285638116                 -2.5095      0.004   -659.692      0.000      -2.517      -2.502\n",
      "UPC_286798599                  0.4273      0.003    137.576      0.000       0.421       0.433\n",
      "UPC_286906735                 -0.7378      0.003   -256.514      0.000      -0.743      -0.732\n",
      "UPC_287415946                  0.7265      0.004    202.595      0.000       0.719       0.734\n",
      "UPC_291765113                  0.4189      0.004    116.814      0.000       0.412       0.426\n",
      "UPC_292740862                  0.5097      0.003    164.073      0.000       0.504       0.516\n",
      "UPC_295208432                  0.8755      0.003    325.385      0.000       0.870       0.881\n",
      "UPC_296821950                 -1.2593      0.004   -351.143      0.000      -1.266      -1.252\n",
      "UPC_296847415                 -1.0721      0.004   -298.949      0.000      -1.079      -1.065\n",
      "UPC_298558534                  0.6438      0.004    179.524      0.000       0.637       0.651\n",
      "UPC_298650567                  0.8065      0.003    237.002      0.000       0.800       0.813\n",
      "UPC_299791600                  0.3119      0.003    104.493      0.000       0.306       0.318\n",
      "UPC_299905463                  0.7872      0.004    193.617      0.000       0.779       0.795\n",
      "UPC_300702726                  0.8009      0.003    268.344      0.000       0.795       0.807\n",
      "UPC_300705072                  0.7627      0.003    235.068      0.000       0.756       0.769\n",
      "UPC_300970093                  0.2475      0.003     86.047      0.000       0.242       0.253\n",
      "UPC_301161010                  0.4471      0.003    149.801      0.000       0.441       0.453\n",
      "UPC_302256456                 -2.2377      0.003   -720.364      0.000      -2.244      -2.232\n",
      "UPC_302857528                  0.9153      0.004    255.224      0.000       0.908       0.922\n",
      "UPC_303530277                  0.7035      0.003    244.618      0.000       0.698       0.709\n",
      "UPC_303748850                  0.4848      0.003    149.411      0.000       0.478       0.491\n",
      "UPC_303796970                 -0.3739      0.003   -115.254      0.000      -0.380      -0.368\n",
      "UPC_304468559                  0.7980      0.003    267.361      0.000       0.792       0.804\n",
      "UPC_305207870                  0.8232      0.003    275.823      0.000       0.817       0.829\n",
      "UPC_305310988                  0.8342      0.004    219.322      0.000       0.827       0.842\n",
      "UPC_306137567                  0.0904      0.003     26.553      0.000       0.084       0.097\n",
      "UPC_306887951                 -0.4317      0.003   -138.990      0.000      -0.438      -0.426\n",
      "UPC_308185637                 -0.2210      0.004    -61.618      0.000      -0.228      -0.214\n",
      "UPC_310069491                 -1.6882      0.003   -520.350      0.000      -1.695      -1.682\n",
      "UPC_310210791                  0.5044      0.003    162.369      0.000       0.498       0.510\n",
      "UPC_311149036                  0.7451      0.003    218.995      0.000       0.738       0.752\n",
      "UPC_311226396                  0.5676      0.003    166.822      0.000       0.561       0.574\n",
      "UPC_311513952                  0.5671      0.003    190.014      0.000       0.561       0.573\n",
      "UPC_311625369                 -1.2959      0.003   -380.892      0.000      -1.303      -1.289\n",
      "UPC_311693284                  0.0553      0.003     16.254      0.000       0.049       0.062\n",
      "UPC_312567137                 -0.1971      0.004    -54.961      0.000      -0.204      -0.190\n",
      "UPC_312588009                  0.5365      0.003    165.379      0.000       0.530       0.543\n",
      "UPC_312735668                 -0.1462      0.003    -42.967      0.000      -0.153      -0.140\n",
      "UPC_314205929                  0.5089      0.003    163.834      0.000       0.503       0.515\n",
      "UPC_314756902                  0.3279      0.004     86.211      0.000       0.320       0.335\n",
      "UPC_315128578                  0.1205      0.004     31.666      0.000       0.113       0.128\n",
      "UPC_319176479                  0.8445      0.004    235.471      0.000       0.837       0.852\n",
      "UPC_321012038                  0.4569      0.003    140.842      0.000       0.451       0.463\n",
      "UPC_321130189                  0.5416      0.003    159.168      0.000       0.535       0.548\n",
      "UPC_323385020                  0.6576      0.003    193.281      0.000       0.651       0.664\n",
      "UPC_325260449                 -0.4887      0.003   -143.608      0.000      -0.495      -0.482\n",
      "UPC_325836526                  0.6638      0.003    204.618      0.000       0.657       0.670\n",
      "UPC_325885139                  0.2924      0.003     85.937      0.000       0.286       0.299\n",
      "UPC_327470693                  0.2432      0.003     78.287      0.000       0.237       0.249\n",
      "UPC_327660050                  0.2749      0.003     84.727      0.000       0.269       0.281\n",
      "UPC_332493471                  0.2407      0.004     63.265      0.000       0.233       0.248\n",
      "UPC_332996724                  0.5632      0.004    148.051      0.000       0.556       0.571\n",
      "UPC_333664376                  0.3585      0.003    115.398      0.000       0.352       0.365\n",
      "UPC_333868779                 -0.3635      0.004   -101.367      0.000      -0.371      -0.357\n",
      "UPC_333967502                  0.0103      0.003      3.443      0.001       0.004       0.016\n",
      "UPC_336912254                  0.0563      0.004     14.795      0.000       0.049       0.064\n",
      "UPC_337353166                  0.7186      0.003    240.785      0.000       0.713       0.724\n",
      "UPC_338728090                 -0.4477      0.003   -155.679      0.000      -0.453      -0.442\n",
      "UPC_338863686                 -1.3072      0.003   -384.210      0.000      -1.314      -1.301\n",
      "UPC_339400596                 -0.4834      0.003   -148.993      0.000      -0.490      -0.477\n",
      "UPC_339765937                  0.5490      0.003    176.743      0.000       0.543       0.555\n",
      "UPC_340260209                  0.5979      0.003    184.301      0.000       0.592       0.604\n",
      "UPC_340478827                 -1.1028      0.004   -307.493      0.000      -1.110      -1.096\n",
      "UPC_342897052                  0.7349      0.003    246.244      0.000       0.729       0.741\n",
      "UPC_346844734                  0.6901      0.004    181.434      0.000       0.683       0.698\n",
      "UPC_349132748                  0.2808      0.004     73.814      0.000       0.273       0.288\n",
      "UPC_350639776                  0.8528      0.003    262.815      0.000       0.846       0.859\n",
      "UPC_35072231                   0.7484      0.004    208.703      0.000       0.741       0.755\n",
      "UPC_352180692                  0.1241      0.004     32.619      0.000       0.117       0.132\n",
      "UPC_352259734                 -0.1764      0.004    -46.382      0.000      -0.184      -0.169\n",
      "UPC_353556196                 -1.9215      0.003   -592.306      0.000      -1.928      -1.915\n",
      "UPC_353626798                  0.9062      0.003    279.299      0.000       0.900       0.913\n",
      "UPC_354630366                  0.2267      0.004     63.208      0.000       0.220       0.234\n",
      "UPC_354716417                  0.4576      0.003    134.497      0.000       0.451       0.464\n",
      "UPC_355520088                 -2.5359      0.003   -781.661      0.000      -2.542      -2.530\n",
      "UPC_357064541                  0.8665      0.003    267.090      0.000       0.860       0.873\n",
      "UPC_358265858                 -0.7552      0.003   -232.780      0.000      -0.762      -0.749\n",
      "UPC_360754991                  0.0410      0.003     13.206      0.000       0.035       0.047\n",
      "UPC_361415663                  0.1226      0.003     37.795      0.000       0.116       0.129\n",
      "UPC_361609713                  0.2099      0.003     64.710      0.000       0.204       0.216\n",
      "UPC_361981249                 -0.1311      0.003    -42.201      0.000      -0.137      -0.125\n",
      "UPC_363196884                 -1.4852      0.003   -457.799      0.000      -1.492      -1.479\n",
      "UPC_363461563                  0.7059      0.003    227.272      0.000       0.700       0.712\n",
      "UPC_363663062                 -0.2870      0.004    -75.449      0.000      -0.294      -0.280\n",
      "UPC_364526351                  0.2301      0.004     56.574      0.000       0.222       0.238\n",
      "UPC_365185443                  0.5417      0.004    142.413      0.000       0.534       0.549\n",
      "UPC_365630841                  0.0402      0.004     11.218      0.000       0.033       0.047\n",
      "UPC_367626432                  0.8071      0.003    237.207      0.000       0.800       0.814\n",
      "UPC_371212986                 -2.0793      0.003   -640.992      0.000      -2.086      -2.073\n",
      "UPC_371889838                 -1.0417      0.003   -335.371      0.000      -1.048      -1.036\n",
      "UPC_372268051                 -2.9553      0.003   -951.433      0.000      -2.961      -2.949\n",
      "UPC_373413450                 -0.7095      0.003   -218.697      0.000      -0.716      -0.703\n",
      "UPC_373656227                  0.3627      0.003    121.516      0.000       0.357       0.369\n",
      "UPC_373709792                 -0.4989      0.003   -160.605      0.000      -0.505      -0.493\n",
      "UPC_374144563                  0.0401      0.004      9.873      0.000       0.032       0.048\n",
      "UPC_374824958                  0.7374      0.004    193.848      0.000       0.730       0.745\n",
      "UPC_375780233                 -2.4844      0.003   -863.816      0.000      -2.490      -2.479\n",
      "UPC_375916960                  0.2526      0.003     84.610      0.000       0.247       0.258\n",
      "UPC_375993782                 -0.5512      0.003   -169.885      0.000      -0.558      -0.545\n",
      "UPC_376153383                  0.0348      0.003     12.541      0.000       0.029       0.040\n",
      "UPC_376311065                 -1.9036      0.003   -612.827      0.000      -1.910      -1.898\n",
      "UPC_376851918                  0.4375      0.003    134.855      0.000       0.431       0.444\n",
      "UPC_377295085                 -2.2418      0.004   -624.979      0.000      -2.249      -2.235\n",
      "UPC_377365657                  0.9111      0.004    224.040      0.000       0.903       0.919\n",
      "UPC_38126522                   0.8920      0.004    248.695      0.000       0.885       0.899\n",
      "UPC_381867389                 -1.1233      0.004   -276.251      0.000      -1.131      -1.115\n",
      "UPC_383193164                  0.4948      0.003    152.496      0.000       0.488       0.501\n",
      "UPC_383194572                 -1.5351      0.003   -533.729      0.000      -1.541      -1.530\n",
      "UPC_383815591                  0.8934      0.003    299.328      0.000       0.888       0.899\n",
      "UPC_38399923                   0.5011      0.004    139.734      0.000       0.494       0.508\n",
      "UPC_386428225                 -0.3395      0.003   -104.652      0.000      -0.346      -0.333\n",
      "UPC_387431034                  0.4724      0.003    158.291      0.000       0.467       0.478\n",
      "UPC_387815880                 -0.5996      0.003   -184.824      0.000      -0.606      -0.593\n",
      "UPC_388197861                  0.0795      0.003     25.580      0.000       0.073       0.086\n",
      "UPC_388544851                  0.7404      0.003    228.210      0.000       0.734       0.747\n",
      "UPC_391122766                  0.7130      0.004    198.790      0.000       0.706       0.720\n",
      "UPC_392781848                  0.4431      0.003    148.465      0.000       0.437       0.449\n",
      "UPC_393028851                  0.7077      0.003    208.017      0.000       0.701       0.714\n",
      "UPC_39408244                   0.9053      0.003    291.406      0.000       0.899       0.911\n",
      "UPC_394331468                  0.7089      0.003    218.490      0.000       0.703       0.715\n",
      "UPC_395515572                 -0.1171      0.003    -34.398      0.000      -0.124      -0.110\n",
      "UPC_395790602                  0.6931      0.003    257.600      0.000       0.688       0.698\n",
      "UPC_39601228                  -0.0344      0.003    -11.542      0.000      -0.040      -0.029\n",
      "UPC_396134202                  0.4494      0.004    125.322      0.000       0.442       0.456\n",
      "UPC_397250295                  0.1540      0.003     45.255      0.000       0.147       0.161\n",
      "UPC_399409590                  0.0107      0.003      3.592      0.000       0.005       0.017\n",
      "UPC_400625108                  0.1366      0.004     38.077      0.000       0.130       0.144\n",
      "UPC_401436440                  0.1277      0.003     37.526      0.000       0.121       0.134\n",
      "UPC_403149940                  0.3881      0.003    114.050      0.000       0.381       0.395\n",
      "UPC_40555797                   0.1538      0.003     45.204      0.000       0.147       0.160\n",
      "UPC_405684153                  0.7872      0.003    242.643      0.000       0.781       0.794\n",
      "UPC_405988807                  0.5179      0.004    144.427      0.000       0.511       0.525\n",
      "UPC_406039511                  0.7572      0.003    253.689      0.000       0.751       0.763\n",
      "UPC_41066545                   0.8710      0.005    181.031      0.000       0.862       0.880\n",
      "UPC_414105716                  0.5440      0.003    182.275      0.000       0.538       0.550\n",
      "UPC_416414679                  0.2030      0.003     68.007      0.000       0.197       0.209\n",
      "UPC_416642778                  0.5163      0.004    135.730      0.000       0.509       0.524\n",
      "UPC_416724552                 -1.2819      0.004   -315.270      0.000      -1.290      -1.274\n",
      "UPC_418444428                 -0.3753      0.003   -120.830      0.000      -0.381      -0.369\n",
      "UPC_420577775                 -0.2043      0.003    -62.970      0.000      -0.211      -0.198\n",
      "UPC_421047592                 -2.0521      0.003   -603.063      0.000      -2.059      -2.045\n",
      "UPC_421176959                  0.9310      0.003    311.902      0.000       0.925       0.937\n",
      "UPC_421428384                  0.9118      0.003    293.559      0.000       0.906       0.918\n",
      "UPC_421938798                 -0.3681      0.004   -102.630      0.000      -0.375      -0.361\n",
      "UPC_426268457                 -0.5836      0.003   -179.862      0.000      -0.590      -0.577\n",
      "UPC_426540728                  0.7852      0.003    242.042      0.000       0.779       0.792\n",
      "UPC_426909634                 -0.6020      0.003   -209.335      0.000      -0.608      -0.596\n",
      "UPC_428456157                  0.0675      0.003     20.819      0.000       0.061       0.074\n",
      "UPC_429624919                  0.7788      0.004    217.146      0.000       0.772       0.786\n",
      "UPC_430094535                  0.2316      0.003     71.394      0.000       0.225       0.238\n",
      "UPC_431156925                  0.4774      0.004    133.100      0.000       0.470       0.484\n",
      "UPC_432934258                  0.8377      0.003    258.212      0.000       0.831       0.844\n",
      "UPC_433536637                  0.5106      0.004    142.370      0.000       0.504       0.518\n",
      "UPC_43366358                   0.6851      0.003    201.368      0.000       0.678       0.692\n",
      "UPC_434688119                 -0.4641      0.003   -143.067      0.000      -0.470      -0.458\n",
      "UPC_435304991                 -0.1174      0.003    -42.246      0.000      -0.123      -0.112\n",
      "UPC_436463728                  0.7160      0.003    230.506      0.000       0.710       0.722\n",
      "UPC_436491453                  0.8806      0.004    245.535      0.000       0.874       0.888\n",
      "UPC_437067209                  0.9107      0.003    293.210      0.000       0.905       0.917\n",
      "UPC_437172755                 -0.5509      0.003   -161.919      0.000      -0.558      -0.544\n",
      "UPC_437637358                  0.0433      0.003     13.345      0.000       0.037       0.050\n",
      "UPC_438682627                  0.7878      0.003    263.974      0.000       0.782       0.794\n",
      "UPC_440219593                 -0.5739      0.004   -160.014      0.000      -0.581      -0.567\n",
      "UPC_440309024                  0.2953      0.003     95.058      0.000       0.289       0.301\n",
      "UPC_44053660                  -2.0037      0.003   -645.008      0.000      -2.010      -1.998\n",
      "UPC_441168504                 -0.2296      0.003    -70.770      0.000      -0.236      -0.223\n",
      "UPC_441404447                  0.7992      0.003    257.305      0.000       0.793       0.805\n",
      "UPC_441453292                  0.4556      0.003    133.872      0.000       0.449       0.462\n",
      "UPC_441772088                  0.0526      0.003     16.921      0.000       0.046       0.059\n",
      "UPC_441947799                  0.7853      0.003    273.050      0.000       0.780       0.791\n",
      "UPC_442236507                  0.6752      0.004    188.256      0.000       0.668       0.682\n",
      "UPC_44276570                   0.4833      0.003    155.574      0.000       0.477       0.489\n",
      "UPC_443127155                  0.5143      0.003    151.175      0.000       0.508       0.521\n",
      "UPC_44385546                  -0.6625      0.003   -230.347      0.000      -0.668      -0.657\n",
      "UPC_445250129                  0.8769      0.003    257.724      0.000       0.870       0.884\n",
      "UPC_445351739                  0.3767      0.003    110.702      0.000       0.370       0.383\n",
      "UPC_446836510                 -0.3582      0.003   -110.401      0.000      -0.365      -0.352\n",
      "UPC_447640332                 -0.6480      0.003   -217.111      0.000      -0.654      -0.642\n",
      "UPC_447858500                 -0.0986      0.003    -31.726      0.000      -0.105      -0.092\n",
      "UPC_448330081                  0.7098      0.004    186.576      0.000       0.702       0.717\n",
      "UPC_449986246                 -1.5449      0.003   -537.171      0.000      -1.551      -1.539\n",
      "UPC_450309449                  0.1294      0.003     39.868      0.000       0.123       0.136\n",
      "UPC_451026029                  0.4603      0.003    141.903      0.000       0.454       0.467\n",
      "UPC_451469731                  0.7699      0.004    214.675      0.000       0.763       0.777\n",
      "UPC_454788216                  0.3432      0.004     90.229      0.000       0.336       0.351\n",
      "UPC_45509167                   0.1678      0.003     49.327      0.000       0.161       0.174\n",
      "UPC_456113225                  0.9151      0.004    255.141      0.000       0.908       0.922\n",
      "UPC_456975266                 -0.5442      0.003   -159.954      0.000      -0.551      -0.538\n",
      "UPC_457695472                  0.7884      0.004    193.875      0.000       0.780       0.796\n",
      "UPC_45824749                   0.1962      0.003     60.488      0.000       0.190       0.203\n",
      "UPC_458313112                 -0.5062      0.004   -133.064      0.000      -0.514      -0.499\n",
      "UPC_458350008                 -1.2449      0.004   -306.176      0.000      -1.253      -1.237\n",
      "UPC_45845527                  -2.6515      0.004   -697.136      0.000      -2.659      -2.644\n",
      "UPC_459605874                 -0.3146      0.003    -92.480      0.000      -0.321      -0.308\n",
      "UPC_460807284                  0.4136      0.003    133.168      0.000       0.408       0.420\n",
      "UPC_461128883                  0.8740      0.003    269.377      0.000       0.868       0.880\n",
      "UPC_466810890                  0.7806      0.004    217.629      0.000       0.774       0.788\n",
      "UPC_468699741                  0.3203      0.003     98.721      0.000       0.314       0.327\n",
      "UPC_470178735                  0.8559      0.003    286.796      0.000       0.850       0.862\n",
      "UPC_470692001                 -0.4642      0.003   -149.423      0.000      -0.470      -0.458\n",
      "UPC_471370637                 -0.3233      0.004    -90.148      0.000      -0.330      -0.316\n",
      "UPC_47158754                   0.0407      0.003     14.138      0.000       0.035       0.046\n",
      "UPC_47174618                  -1.8220      0.003   -586.574      0.000      -1.828      -1.816\n",
      "UPC_472559312                  0.1934      0.003     62.268      0.000       0.187       0.200\n",
      "UPC_473279874                  0.0323      0.003      9.942      0.000       0.026       0.039\n",
      "UPC_474794200                  0.4578      0.003    134.568      0.000       0.451       0.464\n",
      "UPC_475245085                  0.6926      0.003    213.507      0.000       0.686       0.699\n",
      "UPC_475672709                  0.5367      0.004    131.971      0.000       0.529       0.545\n",
      "UPC_476935693                  0.3134      0.004     87.403      0.000       0.306       0.320\n",
      "UPC_477240979                 -0.8246      0.003   -286.690      0.000      -0.830      -0.819\n",
      "UPC_477539026                  0.7197      0.003    221.827      0.000       0.713       0.726\n",
      "UPC_477638150                 -1.1410      0.004   -259.790      0.000      -1.150      -1.132\n",
      "UPC_479749486                  0.5384      0.003    180.406      0.000       0.533       0.544\n",
      "UPC_48013704                   0.7543      0.003    232.508      0.000       0.748       0.761\n",
      "UPC_480476230                 -0.1098      0.003    -33.850      0.000      -0.116      -0.103\n",
      "UPC_481195187                  0.3855      0.003    118.843      0.000       0.379       0.392\n",
      "UPC_481217425                  0.1433      0.003     42.109      0.000       0.137       0.150\n",
      "UPC_48258595                  -0.2477      0.003    -72.801      0.000      -0.254      -0.241\n",
      "UPC_484526970                 -1.7092      0.003   -572.675      0.000      -1.715      -1.703\n",
      "UPC_484719492                  0.8238      0.004    229.725      0.000       0.817       0.831\n",
      "UPC_486230490                  0.7943      0.004    221.501      0.000       0.787       0.801\n",
      "UPC_486482090                  0.2813      0.003    101.220      0.000       0.276       0.287\n",
      "UPC_488091787                  0.1238      0.003     43.051      0.000       0.118       0.129\n",
      "UPC_488377803                 -1.6736      0.003   -491.826      0.000      -1.680      -1.667\n",
      "UPC_489000444                 -1.0580      0.003   -326.111      0.000      -1.064      -1.052\n",
      "UPC_489398729                  0.4530      0.004    126.312      0.000       0.446       0.460\n",
      "UPC_492209870                  0.9172      0.003    269.551      0.000       0.911       0.924\n",
      "UPC_494020899                  0.7066      0.003    217.816      0.000       0.700       0.713\n",
      "UPC_495847520                  0.8919      0.004    248.705      0.000       0.885       0.899\n",
      "UPC_496444498                 -0.3160      0.004    -88.098      0.000      -0.323      -0.309\n",
      "UPC_499640947                 -3.2358      0.003   -997.477      0.000      -3.242      -3.229\n",
      "UPC_500505797                  0.2428      0.003     78.159      0.000       0.237       0.249\n",
      "UPC_502816606                  0.2566      0.004     71.543      0.000       0.250       0.264\n",
      "UPC_503341824                  0.1713      0.003     57.401      0.000       0.165       0.177\n",
      "UPC_503736553                 -0.6431      0.003   -198.235      0.000      -0.649      -0.637\n",
      "UPC_503966459                  0.4686      0.003    137.715      0.000       0.462       0.475\n",
      "UPC_504139198                  0.8455      0.004    222.268      0.000       0.838       0.853\n",
      "UPC_505307561                  0.7728      0.003    238.203      0.000       0.766       0.779\n",
      "UPC_505693127                  0.1071      0.004     29.863      0.000       0.100       0.114\n",
      "UPC_506238955                  0.8785      0.003    258.212      0.000       0.872       0.885\n",
      "UPC_506732002                  0.8418      0.003    271.018      0.000       0.836       0.848\n",
      "UPC_506754007                  0.7389      0.003    237.871      0.000       0.733       0.745\n",
      "UPC_507203618                  0.0924      0.004     25.771      0.000       0.085       0.099\n",
      "UPC_508453812                  0.5490      0.003    176.735      0.000       0.543       0.555\n",
      "UPC_508604923                  0.5700      0.003    167.524      0.000       0.563       0.577\n",
      "UPC_509056495                  0.0070      0.004      1.956      0.051   -1.67e-05       0.014\n",
      "UPC_509116779                 -2.8170      0.003   -906.912      0.000      -2.823      -2.811\n",
      "UPC_509419735                  0.4845      0.003    155.958      0.000       0.478       0.491\n",
      "UPC_51294147                  -0.4786      0.004   -133.437      0.000      -0.486      -0.472\n",
      "UPC_513172706                 -1.5014      0.004   -394.715      0.000      -1.509      -1.494\n",
      "UPC_514293895                  0.5147      0.003    158.617      0.000       0.508       0.521\n",
      "UPC_514730047                  0.5982      0.003    184.403      0.000       0.592       0.605\n",
      "UPC_514805290                 -1.2975      0.004   -361.811      0.000      -1.305      -1.290\n",
      "UPC_514912132                  0.5216      0.003    160.780      0.000       0.515       0.528\n",
      "UPC_514987291                  0.8485      0.003    249.376      0.000       0.842       0.855\n",
      "UPC_516205909                  0.3675      0.003    123.147      0.000       0.362       0.373\n",
      "UPC_517769564                 -0.1877      0.003    -57.849      0.000      -0.194      -0.181\n",
      "UPC_518047270                  0.1579      0.003     54.888      0.000       0.152       0.163\n",
      "UPC_523773926                 -0.6334      0.003   -186.156      0.000      -0.640      -0.627\n",
      "UPC_525505777                 -0.2657      0.003    -85.524      0.000      -0.272      -0.260\n",
      "UPC_525996730                  0.6534      0.003    192.049      0.000       0.647       0.660\n",
      "UPC_526069074                 -0.9663      0.004   -269.421      0.000      -0.973      -0.959\n",
      "UPC_526212256                  0.2945      0.003     98.685      0.000       0.289       0.300\n",
      "UPC_526328901                 -2.5115      0.004   -617.680      0.000      -2.519      -2.504\n",
      "UPC_52851370                   0.5963      0.003    183.806      0.000       0.590       0.603\n",
      "UPC_529559570                 -1.0876      0.003   -350.146      0.000      -1.094      -1.082\n",
      "UPC_529968586                  0.3995      0.003    133.866      0.000       0.394       0.405\n",
      "UPC_531197407                  0.0385      0.003     11.314      0.000       0.032       0.045\n",
      "UPC_531867954                  0.7917      0.003    265.279      0.000       0.786       0.798\n",
      "UPC_53317855                   0.3972      0.003    122.433      0.000       0.391       0.404\n",
      "UPC_533704030                  0.8562      0.003    251.615      0.000       0.849       0.863\n",
      "UPC_534498710                  0.7774      0.004    216.777      0.000       0.770       0.784\n",
      "UPC_534500231                  0.7828      0.003    262.290      0.000       0.777       0.789\n",
      "UPC_535286391                  0.2153      0.004     60.044      0.000       0.208       0.222\n",
      "UPC_535529908                 -2.3286      0.003   -749.655      0.000      -2.335      -2.323\n",
      "UPC_536411687                  0.5144      0.003    151.193      0.000       0.508       0.521\n",
      "UPC_537045183                 -0.3566      0.003   -109.921      0.000      -0.363      -0.350\n",
      "UPC_538593323                 -0.2720      0.003    -87.566      0.000      -0.278      -0.266\n",
      "UPC_538783344                  0.7306      0.004    192.081      0.000       0.723       0.738\n",
      "UPC_541222561                 -2.0791      0.003   -640.775      0.000      -2.085      -2.073\n",
      "UPC_541553073                  0.2796      0.004     77.974      0.000       0.273       0.287\n",
      "UPC_541944658                  0.5497      0.003    169.432      0.000       0.543       0.556\n",
      "UPC_542244776                  0.3861      0.003    124.309      0.000       0.380       0.392\n",
      "UPC_54236183                  -0.0539      0.004    -14.180      0.000      -0.061      -0.046\n",
      "UPC_543464804                 -0.1972      0.003    -60.786      0.000      -0.204      -0.191\n",
      "UPC_544719559                  0.6369      0.003    187.202      0.000       0.630       0.644\n",
      "UPC_545019950                  0.8895      0.003    286.351      0.000       0.883       0.896\n",
      "UPC_545133835                  0.3303      0.003     97.076      0.000       0.324       0.337\n",
      "UPC_545319478                  0.8240      0.003    242.186      0.000       0.817       0.831\n",
      "UPC_54548062                   0.5647      0.003    181.767      0.000       0.559       0.571\n",
      "UPC_546802474                  0.6434      0.003    223.710      0.000       0.638       0.649\n",
      "UPC_549109328                  0.0445      0.003     13.715      0.000       0.038       0.051\n",
      "UPC_549838046                  0.8720      0.003    268.771      0.000       0.866       0.878\n",
      "UPC_549873373                  0.6489      0.003    199.999      0.000       0.643       0.655\n",
      "UPC_551067349                 -1.5413      0.003   -452.990      0.000      -1.548      -1.535\n",
      "UPC_554043945                 -0.1980      0.003    -66.347      0.000      -0.204      -0.192\n",
      "UPC_55404606                   0.4782      0.003    153.957      0.000       0.472       0.484\n",
      "UPC_554693845                 -1.7796      0.004   -496.213      0.000      -1.787      -1.773\n",
      "UPC_554753210                  0.4415      0.004    123.091      0.000       0.434       0.449\n",
      "UPC_555173446                 -1.0760      0.003   -331.672      0.000      -1.082      -1.070\n",
      "UPC_555275616                  0.5576      0.004    155.467      0.000       0.551       0.565\n",
      "UPC_555531366                 -0.6941      0.003   -232.543      0.000      -0.700      -0.688\n",
      "UPC_556223651                  0.3775      0.003    110.952      0.000       0.371       0.384\n",
      "UPC_557031026                 -0.1565      0.003    -48.246      0.000      -0.163      -0.150\n",
      "UPC_557394018                  0.6875      0.003    202.041      0.000       0.681       0.694\n",
      "UPC_557637639                 -3.2950      0.003  -1104.053      0.000      -3.301      -3.289\n",
      "UPC_55833407                   0.1957      0.003     65.577      0.000       0.190       0.202\n",
      "UPC_561425157                 -0.6591      0.004   -183.754      0.000      -0.666      -0.652\n",
      "UPC_56176612                   0.2737      0.003     84.354      0.000       0.267       0.280\n",
      "UPC_564014969                 -0.8802      0.003   -271.309      0.000      -0.887      -0.874\n",
      "UPC_564734116                  0.5593      0.003    180.070      0.000       0.553       0.565\n",
      "UPC_565021540                 -0.2441      0.004    -68.073      0.000      -0.251      -0.237\n",
      "UPC_565170341                 -0.8950      0.003   -288.131      0.000      -0.901      -0.889\n",
      "UPC_565229692                  0.7002      0.003    225.400      0.000       0.694       0.706\n",
      "UPC_568256903                  0.8030      0.003    247.507      0.000       0.797       0.809\n",
      "UPC_568480217                 -0.1314      0.003    -40.494      0.000      -0.138      -0.125\n",
      "UPC_569684083                 -0.0593      0.003    -19.100      0.000      -0.065      -0.053\n",
      "UPC_571419391                  0.5735      0.003    176.770      0.000       0.567       0.580\n",
      "UPC_571896895                 -0.7981      0.003   -246.001      0.000      -0.804      -0.792\n",
      "UPC_57394222                   0.2927      0.003     98.063      0.000       0.287       0.299\n",
      "UPC_574010167                 -0.4519      0.004   -126.019      0.000      -0.459      -0.445\n",
      "UPC_574169049                 -0.4753      0.003   -165.259      0.000      -0.481      -0.470\n",
      "UPC_574404121                  0.1378      0.003     42.467      0.000       0.131       0.144\n",
      "UPC_574686428                  0.4529      0.003    139.597      0.000       0.447       0.459\n",
      "UPC_575714399                 -0.5780      0.003   -178.172      0.000      -0.584      -0.572\n",
      "UPC_576244412                  0.0434      0.004     12.097      0.000       0.036       0.050\n",
      "UPC_576506037                  0.5696      0.004    140.072      0.000       0.562       0.578\n",
      "UPC_57714338                   0.0974      0.003     30.013      0.000       0.091       0.104\n",
      "UPC_579355486                 -0.8980      0.003   -289.109      0.000      -0.904      -0.892\n",
      "UPC_581030587                 -0.5975      0.003   -200.174      0.000      -0.603      -0.592\n",
      "UPC_581614281                  0.6471      0.004    170.099      0.000       0.640       0.655\n",
      "UPC_582214622                 -0.3790      0.003   -116.841      0.000      -0.385      -0.373\n",
      "UPC_582451335                  0.8641      0.003    289.529      0.000       0.858       0.870\n",
      "UPC_583297806                  0.4593      0.003    141.552      0.000       0.453       0.466\n",
      "UPC_583333446                  0.6135      0.004    171.089      0.000       0.607       0.621\n",
      "UPC_583382498                 -0.2555      0.004    -67.168      0.000      -0.263      -0.248\n",
      "UPC_583814806                  0.5642      0.003    173.920      0.000       0.558       0.571\n",
      "UPC_584200676                  0.5691      0.003    175.411      0.000       0.563       0.575\n",
      "UPC_584598491                  0.9186      0.003    269.974      0.000       0.912       0.925\n",
      "UPC_585091176                 -0.1908      0.003    -63.936      0.000      -0.197      -0.185\n",
      "UPC_587031338                  0.8684      0.003    279.571      0.000       0.862       0.874\n",
      "UPC_587816654                  0.4462      0.003    137.525      0.000       0.440       0.453\n",
      "UPC_58785197                  -0.1227      0.003    -39.488      0.000      -0.129      -0.117\n",
      "UPC_588225773                 -0.1625      0.004    -42.710      0.000      -0.170      -0.155\n",
      "UPC_591915659                  0.8716      0.003    256.172      0.000       0.865       0.878\n",
      "UPC_592298415                  0.6188      0.004    172.527      0.000       0.612       0.626\n",
      "UPC_592499340                 -2.2234      0.004   -619.904      0.000      -2.230      -2.216\n",
      "UPC_594035260                  0.9102      0.003    293.027      0.000       0.904       0.916\n",
      "UPC_594511101                 -0.2283      0.004    -56.140      0.000      -0.236      -0.220\n",
      "UPC_59479815                   0.6703      0.004    186.880      0.000       0.663       0.677\n",
      "UPC_596626474                  0.4543      0.003    133.528      0.000       0.448       0.461\n",
      "UPC_598589918                 -1.3256      0.003   -389.576      0.000      -1.332      -1.319\n",
      "UPC_599052834                 -0.3153      0.003    -97.181      0.000      -0.322      -0.309\n",
      "UPC_599921977                  0.3592      0.004    100.175      0.000       0.352       0.366\n",
      "UPC_60042797                  -0.5869      0.003   -180.908      0.000      -0.593      -0.581\n",
      "UPC_60168857                  -2.4608      0.003   -723.282      0.000      -2.467      -2.454\n",
      "UPC_60193187                  -1.0896      0.003   -335.889      0.000      -1.096      -1.083\n",
      "UPC_604272498                 -3.2818      0.003  -1011.590      0.000      -3.288      -3.275\n",
      "UPC_604540867                 -0.5507      0.004   -153.556      0.000      -0.558      -0.544\n",
      "UPC_606279907                  0.6486      0.004    180.851      0.000       0.642       0.656\n",
      "UPC_606513778                 -2.4847      0.004   -611.048      0.000      -2.493      -2.477\n",
      "UPC_607409332                  0.5287      0.003    162.968      0.000       0.522       0.535\n",
      "UPC_60912855                   0.7713      0.003    248.282      0.000       0.765       0.777\n",
      "UPC_612017146                 -0.0446      0.004    -12.427      0.000      -0.052      -0.038\n",
      "UPC_61278034                  -0.0318      0.003    -10.229      0.000      -0.038      -0.026\n",
      "UPC_612864775                  0.0105      0.003      3.094      0.002       0.004       0.017\n",
      "UPC_614172105                  0.3293      0.003    106.021      0.000       0.323       0.335\n",
      "UPC_614290704                  0.4660      0.003    150.014      0.000       0.460       0.472\n",
      "UPC_614892418                  0.9175      0.004    241.228      0.000       0.910       0.925\n",
      "UPC_615121896                  0.5267      0.004    129.524      0.000       0.519       0.535\n",
      "UPC_61566790                   0.3413      0.003    100.327      0.000       0.335       0.348\n",
      "UPC_615706094                  0.6339      0.003    186.300      0.000       0.627       0.641\n",
      "UPC_616240709                  0.8879      0.003    260.973      0.000       0.881       0.895\n",
      "UPC_617543188                 -0.1243      0.003    -38.307      0.000      -0.131      -0.118\n",
      "UPC_620047925                  0.6715      0.003    206.991      0.000       0.665       0.678\n",
      "UPC_62068892                  -0.7630      0.003   -245.635      0.000      -0.769      -0.757\n",
      "UPC_622287285                 -2.0304      0.003   -596.726      0.000      -2.037      -2.024\n",
      "UPC_625438627                  0.9111      0.004    254.040      0.000       0.904       0.918\n",
      "UPC_62563085                   0.7086      0.003    237.416      0.000       0.703       0.714\n",
      "UPC_627416688                  0.0309      0.003      9.947      0.000       0.025       0.037\n",
      "UPC_627807402                  0.0189      0.003      6.567      0.000       0.013       0.025\n",
      "UPC_627831552                  0.7972      0.003    256.624      0.000       0.791       0.803\n",
      "UPC_628622442                 -0.8853      0.003   -272.892      0.000      -0.892      -0.879\n",
      "UPC_629512894                  0.8519      0.003    285.451      0.000       0.846       0.858\n",
      "UPC_631749882                 -0.1099      0.004    -30.652      0.000      -0.117      -0.103\n",
      "UPC_633357974                 -0.8007      0.003   -257.764      0.000      -0.807      -0.795\n",
      "UPC_634830299                 -0.6158      0.003   -180.944      0.000      -0.622      -0.609\n",
      "UPC_63494206                  -0.0664      0.003    -19.522      0.000      -0.073      -0.060\n",
      "UPC_635609352                 -0.3678      0.004   -102.546      0.000      -0.375      -0.361\n",
      "UPC_637471150                  0.7547      0.003    242.949      0.000       0.749       0.761\n",
      "UPC_637601085                  0.3768      0.004     99.052      0.000       0.369       0.384\n",
      "UPC_641131808                  0.1287      0.003     37.825      0.000       0.122       0.135\n",
      "UPC_641206219                 -0.1258      0.004    -35.079      0.000      -0.133      -0.119\n",
      "UPC_641701426                  0.5336      0.003    164.460      0.000       0.527       0.540\n",
      "UPC_643048328                  0.5832      0.004    162.602      0.000       0.576       0.590\n",
      "UPC_643110527                 -0.7354      0.004   -193.360      0.000      -0.743      -0.728\n",
      "UPC_643610475                 -0.5217      0.004   -128.305      0.000      -0.530      -0.514\n",
      "UPC_643629043                 -1.2976      0.003   -451.154      0.000      -1.303      -1.292\n",
      "UPC_643891644                  0.5317      0.003    171.151      0.000       0.526       0.538\n",
      "UPC_643896037                 -2.8505      0.004   -794.763      0.000      -2.857      -2.843\n",
      "UPC_644054876                  0.1816      0.003     53.389      0.000       0.175       0.188\n",
      "UPC_644874729                  0.2606      0.004     72.658      0.000       0.254       0.268\n",
      "UPC_645118810                  0.4448      0.003    137.107      0.000       0.438       0.451\n",
      "UPC_645331356                 -0.0144      0.003     -4.428      0.000      -0.021      -0.008\n",
      "UPC_646431619                 -2.2604      0.004   -594.269      0.000      -2.268      -2.253\n",
      "UPC_646726630                 -0.0593      0.003    -17.443      0.000      -0.066      -0.053\n",
      "UPC_647962512                 -1.2225      0.004   -321.405      0.000      -1.230      -1.215\n",
      "UPC_649976289                 -1.5691      0.004   -412.497      0.000      -1.577      -1.562\n",
      "UPC_650943158                 -0.4547      0.003   -140.162      0.000      -0.461      -0.448\n",
      "UPC_651936351                 -2.0447      0.004   -537.567      0.000      -2.052      -2.037\n",
      "UPC_652377244                  0.2996      0.003     88.057      0.000       0.293       0.306\n",
      "UPC_653798822                  0.2217      0.004     61.823      0.000       0.215       0.229\n",
      "UPC_654081535                  0.1533      0.003     47.264      0.000       0.147       0.160\n",
      "UPC_654483249                  0.1139      0.003     33.480      0.000       0.107       0.121\n",
      "UPC_655347860                  0.8093      0.003    237.854      0.000       0.803       0.816\n",
      "UPC_65837987                   0.8670      0.003    254.827      0.000       0.860       0.874\n",
      "UPC_658435562                  0.4076      0.004    107.137      0.000       0.400       0.415\n",
      "UPC_659422945                 -1.5193      0.003   -509.077      0.000      -1.525      -1.513\n",
      "UPC_66025021                   0.3710      0.003    114.369      0.000       0.365       0.377\n",
      "UPC_663501723                 -0.5431      0.003   -167.397      0.000      -0.549      -0.537\n",
      "UPC_665091890                 -1.4806      0.003   -476.637      0.000      -1.487      -1.475\n",
      "UPC_667968672                 -0.4268      0.003   -131.546      0.000      -0.433      -0.420\n",
      "UPC_672429356                 -1.1285      0.003   -378.100      0.000      -1.134      -1.123\n",
      "UPC_673299284                 -0.8831      0.003   -259.522      0.000      -0.890      -0.876\n",
      "UPC_674159443                 -0.3516      0.003   -113.187      0.000      -0.358      -0.346\n",
      "UPC_675134953                  0.1942      0.004     51.043      0.000       0.187       0.202\n",
      "UPC_676268953                  0.9299      0.004    228.689      0.000       0.922       0.938\n",
      "UPC_676274385                  0.5719      0.003    176.272      0.000       0.566       0.578\n",
      "UPC_676939567                  0.4917      0.003    151.538      0.000       0.485       0.498\n",
      "UPC_677674656                 -0.1796      0.003    -60.177      0.000      -0.185      -0.174\n",
      "UPC_678530217                  0.5144      0.003    151.178      0.000       0.508       0.521\n",
      "UPC_678539677                  0.1796      0.003     52.798      0.000       0.173       0.186\n",
      "UPC_678675568                 -0.1467      0.003    -43.117      0.000      -0.153      -0.140\n",
      "UPC_68034486                  -1.5044      0.003   -484.333      0.000      -1.511      -1.498\n",
      "UPC_680584021                 -0.1473      0.003    -43.302      0.000      -0.154      -0.141\n",
      "UPC_681789308                  0.7642      0.003    256.062      0.000       0.758       0.770\n",
      "UPC_683028909                  0.6436      0.003    189.151      0.000       0.637       0.650\n",
      "UPC_683810722                 -0.1842      0.003    -54.154      0.000      -0.191      -0.178\n",
      "UPC_685061388                  0.7429      0.003    239.170      0.000       0.737       0.749\n",
      "UPC_685715810                  0.1136      0.003     36.583      0.000       0.108       0.120\n",
      "UPC_687061455                  0.4500      0.003    144.888      0.000       0.444       0.456\n",
      "UPC_688174297                  0.6653      0.003    239.449      0.000       0.660       0.671\n",
      "UPC_688858216                 -0.2662      0.003    -78.250      0.000      -0.273      -0.260\n",
      "UPC_690069404                 -0.2218      0.003    -65.184      0.000      -0.228      -0.215\n",
      "UPC_690308756                  0.6114      0.003    188.464      0.000       0.605       0.618\n",
      "UPC_69037528                  -2.0028      0.003   -617.345      0.000      -2.009      -1.996\n",
      "UPC_690392986                  0.6586      0.004    173.145      0.000       0.651       0.666\n",
      "UPC_690451660                 -0.0636      0.003    -20.471      0.000      -0.070      -0.057\n",
      "UPC_692276824                  0.8966      0.003    311.757      0.000       0.891       0.902\n",
      "UPC_694468735                 -2.6748      0.004   -745.801      0.000      -2.682      -2.668\n",
      "UPC_694669999                 -0.0388      0.003    -12.489      0.000      -0.045      -0.033\n",
      "UPC_695599406                 -0.7331      0.003   -236.009      0.000      -0.739      -0.727\n",
      "UPC_69584995                  -0.7007      0.003   -225.548      0.000      -0.707      -0.695\n",
      "UPC_696954302                  0.2652      0.004     73.953      0.000       0.258       0.272\n",
      "UPC_697589645                  0.1721      0.004     45.254      0.000       0.165       0.180\n",
      "UPC_698510708                  0.3210      0.003     98.956      0.000       0.315       0.327\n",
      "UPC_698731992                  0.7109      0.003    228.850      0.000       0.705       0.717\n",
      "UPC_698832542                 -0.1568      0.004    -35.693      0.000      -0.165      -0.148\n",
      "UPC_699701113                 -2.0625      0.003   -635.793      0.000      -2.069      -2.056\n",
      "UPC_700041439                 -0.0155      0.003     -4.547      0.000      -0.022      -0.009\n",
      "UPC_700311165                  0.5734      0.003    168.536      0.000       0.567       0.580\n",
      "UPC_700660531                  0.5151      0.003    165.832      0.000       0.509       0.521\n",
      "UPC_70124770                   0.8808      0.003    271.497      0.000       0.874       0.887\n",
      "UPC_701377201                 -1.8931      0.003   -634.334      0.000      -1.899      -1.887\n",
      "UPC_702065059                  0.7794      0.003    250.914      0.000       0.773       0.786\n",
      "UPC_702239031                 -0.7881      0.003   -253.721      0.000      -0.794      -0.782\n",
      "UPC_702868026                 -0.4145      0.004   -115.579      0.000      -0.422      -0.407\n",
      "UPC_70324549                   0.6287      0.003    193.810      0.000       0.622       0.635\n",
      "UPC_704505214                  0.2133      0.004     59.463      0.000       0.206       0.220\n",
      "UPC_708247357                 -0.7826      0.003   -262.220      0.000      -0.788      -0.777\n",
      "UPC_708419030                 -0.6463      0.003   -208.060      0.000      -0.652      -0.640\n",
      "UPC_70848410                  -2.1740      0.003   -699.898      0.000      -2.180      -2.168\n",
      "UPC_708930835                 -0.2829      0.003    -83.163      0.000      -0.290      -0.276\n",
      "UPC_709096794                  0.5086      0.003    163.739      0.000       0.503       0.515\n",
      "UPC_711957058                 -0.0652      0.003    -20.112      0.000      -0.072      -0.059\n",
      "UPC_713032211                 -0.9713      0.003   -312.701      0.000      -0.977      -0.965\n",
      "UPC_714138116                  0.8719      0.004    229.201      0.000       0.864       0.879\n",
      "UPC_714264288                 -0.4060      0.003   -125.139      0.000      -0.412      -0.400\n",
      "UPC_714768657                  0.1369      0.003     40.247      0.000       0.130       0.144\n",
      "UPC_715494692                  0.9326      0.003    274.086      0.000       0.926       0.939\n",
      "UPC_716383928                  0.2237      0.004     55.030      0.000       0.216       0.232\n",
      "UPC_71726448                  -1.0543      0.003   -353.262      0.000      -1.060      -1.048\n",
      "UPC_723419379                  0.6114      0.003    196.837      0.000       0.605       0.617\n",
      "UPC_723906184                 -0.2168      0.004    -57.011      0.000      -0.224      -0.209\n",
      "UPC_723934665                  0.7085      0.003    228.095      0.000       0.702       0.715\n",
      "UPC_725772193                 -0.9561      0.004   -266.577      0.000      -0.963      -0.949\n",
      "UPC_726107443                  0.8615      0.003    253.179      0.000       0.855       0.868\n",
      "UPC_726593797                 -0.2957      0.003    -91.123      0.000      -0.302      -0.289\n",
      "UPC_727229928                  0.1906      0.003     58.762      0.000       0.184       0.197\n",
      "UPC_728311671                 -0.0462      0.003    -13.586      0.000      -0.053      -0.040\n",
      "UPC_731963540                  0.8318      0.004    218.657      0.000       0.824       0.839\n",
      "UPC_73544548                   0.3894      0.003    120.025      0.000       0.383       0.396\n",
      "UPC_73570156                   0.0230      0.003      7.079      0.000       0.017       0.029\n",
      "UPC_736014357                 -0.8148      0.004   -214.177      0.000      -0.822      -0.807\n",
      "UPC_736362595                  0.3456      0.003    120.181      0.000       0.340       0.351\n",
      "UPC_737000536                 -1.0893      0.003   -350.662      0.000      -1.095      -1.083\n",
      "UPC_737234743                  0.7880      0.003    242.907      0.000       0.782       0.794\n",
      "UPC_739054494                 -0.0310      0.003     -9.124      0.000      -0.038      -0.024\n",
      "UPC_739430945                  0.9290      0.004    228.435      0.000       0.921       0.937\n",
      "UPC_740153739                 -0.3682      0.004   -102.671      0.000      -0.375      -0.361\n",
      "UPC_74029795                   0.5599      0.003    164.563      0.000       0.553       0.567\n",
      "UPC_740420827                 -0.9281      0.003   -272.754      0.000      -0.935      -0.921\n",
      "UPC_742030365                  0.7426      0.003    228.889      0.000       0.736       0.749\n",
      "UPC_742726716                  0.5850      0.003    180.312      0.000       0.579       0.591\n",
      "UPC_743414051                  0.3558      0.003    109.674      0.000       0.349       0.362\n",
      "UPC_744228999                 -1.1873      0.003   -412.811      0.000      -1.193      -1.182\n",
      "UPC_744486125                 -0.2079      0.003    -69.672      0.000      -0.214      -0.202\n",
      "UPC_744789087                 -1.9488      0.004   -543.378      0.000      -1.956      -1.942\n",
      "UPC_745216676                 -0.1927      0.003    -59.380      0.000      -0.199      -0.186\n",
      "UPC_745790660                  0.6518      0.003    191.547      0.000       0.645       0.658\n",
      "UPC_746596885                 -1.2961      0.004   -318.739      0.000      -1.304      -1.288\n",
      "UPC_746763504                  0.7976      0.003    234.440      0.000       0.791       0.804\n",
      "UPC_748626363                 -1.0948      0.003   -366.773      0.000      -1.101      -1.089\n",
      "UPC_749133422                  0.7342      0.003    245.990      0.000       0.728       0.740\n",
      "UPC_749696942                 -1.8368      0.003   -591.285      0.000      -1.843      -1.831\n",
      "UPC_750854309                  0.3223      0.003    103.754      0.000       0.316       0.328\n",
      "UPC_751783597                  0.9114      0.003    267.890      0.000       0.905       0.918\n",
      "UPC_75242878                  -1.8109      0.003   -532.204      0.000      -1.818      -1.804\n",
      "UPC_753436797                  0.6551      0.003    201.951      0.000       0.649       0.661\n",
      "UPC_757501813                  0.4861      0.003    149.844      0.000       0.480       0.492\n",
      "UPC_757630984                  0.1406      0.004     39.195      0.000       0.134       0.148\n",
      "UPC_758967619                  0.5221      0.004    137.257      0.000       0.515       0.530\n",
      "UPC_760445497                 -1.0819      0.004   -301.633      0.000      -1.089      -1.075\n",
      "UPC_762004012                 -2.6766      0.003   -786.649      0.000      -2.683      -2.670\n",
      "UPC_762710881                  0.6722      0.003    207.200      0.000       0.666       0.679\n",
      "UPC_762977091                 -0.5297      0.003   -155.683      0.000      -0.536      -0.523\n",
      "UPC_763083923                 -0.4480      0.003   -131.648      0.000      -0.455      -0.441\n",
      "UPC_763210027                  0.1427      0.004     39.783      0.000       0.136       0.150\n",
      "UPC_764458897                  0.6620      0.003    221.792      0.000       0.656       0.668\n",
      "UPC_764530996                  0.2432      0.003     74.956      0.000       0.237       0.250\n",
      "UPC_765932940                  0.8020      0.004    210.826      0.000       0.795       0.809\n",
      "UPC_765958220                 -0.3352      0.003    -98.500      0.000      -0.342      -0.328\n",
      "UPC_766810433                 -0.2488      0.003    -73.134      0.000      -0.255      -0.242\n",
      "UPC_768303991                  0.7808      0.004    191.996      0.000       0.773       0.789\n",
      "UPC_768547166                  0.4550      0.003    133.736      0.000       0.448       0.462\n",
      "UPC_768628469                 -0.9395      0.003   -302.460      0.000      -0.946      -0.933\n",
      "UPC_768879663                  0.9296      0.003    273.203      0.000       0.923       0.936\n",
      "UPC_768900012                  0.7893      0.003    243.260      0.000       0.783       0.796\n",
      "UPC_769464973                  0.5216      0.003    181.357      0.000       0.516       0.527\n",
      "UPC_770347410                 -2.6524      0.003   -779.517      0.000      -2.659      -2.646\n",
      "UPC_77045464                  -0.5880      0.003   -172.823      0.000      -0.595      -0.581\n",
      "UPC_771066892                  0.3403      0.003    100.014      0.000       0.334       0.347\n",
      "UPC_773828271                  0.8813      0.003    283.717      0.000       0.875       0.887\n",
      "UPC_774342015                  0.4391      0.003    141.382      0.000       0.433       0.445\n",
      "UPC_77460052                  -3.0077      0.004   -838.682      0.000      -3.015      -3.001\n",
      "UPC_774949377                  0.1209      0.003     38.910      0.000       0.115       0.127\n",
      "UPC_778006625                  0.8218      0.003    241.557      0.000       0.815       0.829\n",
      "UPC_778682895                 -1.6136      0.003   -540.640      0.000      -1.619      -1.608\n",
      "UPC_780230660                  0.7187      0.003    221.514      0.000       0.712       0.725\n",
      "UPC_783399454                  0.2846      0.003     95.356      0.000       0.279       0.290\n",
      "UPC_783845705                 -0.0004      0.004     -0.115      0.909      -0.007       0.007\n",
      "UPC_783899410                  0.5892      0.003    173.164      0.000       0.583       0.596\n",
      "UPC_784408530                 -2.3329      0.003   -751.071      0.000      -2.339      -2.327\n",
      "UPC_785234168                  0.3504      0.003    117.385      0.000       0.345       0.356\n",
      "UPC_786293238                 -1.3940      0.003   -448.771      0.000      -1.400      -1.388\n",
      "UPC_789649867                  0.7292      0.004    203.313      0.000       0.722       0.736\n",
      "UPC_789986401                 -0.4699      0.003   -157.438      0.000      -0.476      -0.464\n",
      "UPC_790024227                 -0.4546      0.003   -163.598      0.000      -0.460      -0.449\n",
      "UPC_790066655                 -1.6785      0.003   -517.375      0.000      -1.685      -1.672\n",
      "UPC_790347148                  0.6396      0.003    222.396      0.000       0.634       0.645\n",
      "UPC_791901779                  0.6762      0.003    208.448      0.000       0.670       0.683\n",
      "UPC_79218866                   0.7747      0.004    216.027      0.000       0.768       0.782\n",
      "UPC_793865483                 -0.2738      0.003    -88.157      0.000      -0.280      -0.268\n",
      "UPC_794251522                  0.4647      0.004    129.579      0.000       0.458       0.472\n",
      "UPC_795655973                  0.8499      0.003    261.977      0.000       0.844       0.856\n",
      "UPC_795937333                 -0.0284      0.003     -8.753      0.000      -0.035      -0.022\n",
      "UPC_797375865                  0.8898      0.003    286.487      0.000       0.884       0.896\n",
      "UPC_798625113                 -1.8830      0.004   -525.052      0.000      -1.890      -1.876\n",
      "UPC_801329171                  0.7919      0.003    265.361      0.000       0.786       0.798\n",
      "UPC_802480036                  0.8333      0.003    256.834      0.000       0.827       0.840\n",
      "UPC_804094528                  0.5836      0.003    195.567      0.000       0.578       0.589\n",
      "UPC_805082512                 -0.3772      0.003   -121.418      0.000      -0.383      -0.371\n",
      "UPC_808274867                  0.5261      0.003    162.152      0.000       0.520       0.532\n",
      "UPC_808976577                  0.1463      0.003     42.989      0.000       0.140       0.153\n",
      "UPC_810777505                  0.1932      0.003     59.550      0.000       0.187       0.200\n",
      "UPC_812183948                  0.2468      0.003     72.543      0.000       0.240       0.253\n",
      "UPC_812264326                  0.2369      0.003     82.365      0.000       0.231       0.243\n",
      "UPC_812817987                 -0.0410      0.003    -12.053      0.000      -0.048      -0.034\n",
      "UPC_813117592                  0.6486      0.003    208.825      0.000       0.643       0.655\n",
      "UPC_81313305                   0.8143      0.003    262.156      0.000       0.808       0.820\n",
      "UPC_817162115                 -0.2213      0.003    -68.211      0.000      -0.228      -0.215\n",
      "UPC_817674221                  0.6906      0.003    202.962      0.000       0.684       0.697\n",
      "UPC_818139689                  0.8678      0.004    241.951      0.000       0.861       0.875\n",
      "UPC_819121025                 -0.1492      0.003    -43.857      0.000      -0.156      -0.143\n",
      "UPC_81927167                   0.4104      0.003    147.698      0.000       0.405       0.416\n",
      "UPC_820540489                  0.7991      0.003    234.855      0.000       0.792       0.806\n",
      "UPC_821096485                 -0.9550      0.003   -280.689      0.000      -0.962      -0.948\n",
      "UPC_821504223                  0.6505      0.004    170.998      0.000       0.643       0.658\n",
      "UPC_822316142                 -1.7379      0.004   -456.852      0.000      -1.745      -1.730\n",
      "UPC_825958722                 -0.9064      0.003   -266.395      0.000      -0.913      -0.900\n",
      "UPC_826114350                 -0.1426      0.003    -41.902      0.000      -0.149      -0.136\n",
      "UPC_826771870                 -0.4667      0.003   -156.347      0.000      -0.473      -0.461\n",
      "UPC_826777526                  0.7384      0.003    227.608      0.000       0.732       0.745\n",
      "UPC_827210689                 -1.1814      0.004   -290.557      0.000      -1.189      -1.173\n",
      "UPC_827352822                 -0.0790      0.004    -22.021      0.000      -0.086      -0.072\n",
      "UPC_827531126                  0.5175      0.003    173.399      0.000       0.512       0.523\n",
      "UPC_827631041                  0.5514      0.003    177.506      0.000       0.545       0.557\n",
      "UPC_827898456                  0.4713      0.004    123.889      0.000       0.464       0.479\n",
      "UPC_827980895                  0.8438      0.003    260.094      0.000       0.837       0.850\n",
      "UPC_829968022                  0.3481      0.003    112.066      0.000       0.342       0.354\n",
      "UPC_830115263                  0.6464      0.004    180.216      0.000       0.639       0.653\n",
      "UPC_831054514                  0.3901      0.003    130.709      0.000       0.384       0.396\n",
      "UPC_83141336                   0.8121      0.003    250.317      0.000       0.806       0.818\n",
      "UPC_831639757                  0.5840      0.003    188.031      0.000       0.578       0.590\n",
      "UPC_832037986                 -1.1346      0.004   -316.390      0.000      -1.142      -1.128\n",
      "UPC_832713642                  0.1834      0.003     53.914      0.000       0.177       0.190\n",
      "UPC_835193761                  0.9110      0.003    305.238      0.000       0.905       0.917\n",
      "UPC_835966795                 -0.7118      0.003   -238.503      0.000      -0.718      -0.706\n",
      "UPC_836742374                  0.6137      0.003    189.150      0.000       0.607       0.620\n",
      "UPC_836817411                  0.0451      0.003     13.913      0.000       0.039       0.051\n",
      "UPC_838460068                  0.9221      0.003    296.840      0.000       0.916       0.928\n",
      "UPC_838729004                 -1.2175      0.003   -357.849      0.000      -1.224      -1.211\n",
      "UPC_839680734                  0.2574      0.003     75.651      0.000       0.251       0.264\n",
      "UPC_840138489                  0.1344      0.003     45.021      0.000       0.129       0.140\n",
      "UPC_841392681                  0.8710      0.003    280.382      0.000       0.865       0.877\n",
      "UPC_842306029                  0.5117      0.004    134.527      0.000       0.504       0.519\n",
      "UPC_842621232                  0.6033      0.003    177.311      0.000       0.597       0.610\n",
      "UPC_842968031                  0.3656      0.003    112.681      0.000       0.359       0.372\n",
      "UPC_843645850                  0.1863      0.004     51.957      0.000       0.179       0.193\n",
      "UPC_845328666                  0.4117      0.004    108.228      0.000       0.404       0.419\n",
      "UPC_845893087                  0.7755      0.003    227.909      0.000       0.769       0.782\n",
      "UPC_846637828                 -1.5125      0.003   -486.921      0.000      -1.519      -1.506\n",
      "UPC_848007798                 -0.2506      0.003    -73.664      0.000      -0.257      -0.244\n",
      "UPC_848280790                  0.4443      0.004    123.900      0.000       0.437       0.451\n",
      "UPC_849299370                 -0.7523      0.003   -221.079      0.000      -0.759      -0.746\n",
      "UPC_849425547                  0.7847      0.003    282.393      0.000       0.779       0.790\n",
      "UPC_849702242                  0.6086      0.004    169.688      0.000       0.602       0.616\n",
      "UPC_850719150                 -1.0530      0.003   -309.484      0.000      -1.060      -1.046\n",
      "UPC_850860889                 -0.2858      0.003    -88.093      0.000      -0.292      -0.279\n",
      "UPC_852479948                 -0.2131      0.003    -74.092      0.000      -0.219      -0.207\n",
      "UPC_853687097                  0.5555      0.004    154.861      0.000       0.548       0.562\n",
      "UPC_854689154                  0.7925      0.003    265.482      0.000       0.787       0.798\n",
      "UPC_854985252                  0.5034      0.003    155.190      0.000       0.497       0.510\n",
      "UPC_855000437                 -0.0973      0.003    -32.612      0.000      -0.103      -0.091\n",
      "UPC_856365324                  0.5121      0.004    142.792      0.000       0.505       0.519\n",
      "UPC_856554674                  0.0102      0.003      3.156      0.002       0.004       0.017\n",
      "UPC_857067649                  0.8474      0.003    314.977      0.000       0.842       0.853\n",
      "UPC_857721983                  0.1439      0.004     40.128      0.000       0.137       0.151\n",
      "UPC_859607186                  0.0454      0.003     13.349      0.000       0.039       0.052\n",
      "UPC_860167579                  0.4112      0.003    132.368      0.000       0.405       0.417\n",
      "UPC_861024387                 -1.4956      0.003   -439.568      0.000      -1.502      -1.489\n",
      "UPC_861871758                  0.8084      0.004    225.394      0.000       0.801       0.815\n",
      "UPC_86262532                   0.7752      0.003    249.560      0.000       0.769       0.781\n",
      "UPC_864093895                 -2.0647      0.003   -606.753      0.000      -2.071      -2.058\n",
      "UPC_864128161                 -1.6812      0.003   -518.173      0.000      -1.688      -1.675\n",
      "UPC_864892235                  0.5370      0.004    141.185      0.000       0.530       0.544\n",
      "UPC_865020811                  0.6068      0.003    195.353      0.000       0.601       0.613\n",
      "UPC_866416138                  0.5516      0.003    162.099      0.000       0.545       0.558\n",
      "UPC_866698043                 -1.3575      0.003   -399.001      0.000      -1.364      -1.351\n",
      "UPC_86858655                  -2.1832      0.004   -608.648      0.000      -2.190      -2.176\n",
      "UPC_870309366                  0.5643      0.003    181.665      0.000       0.558       0.570\n",
      "UPC_870595943                  0.6615      0.003    212.958      0.000       0.655       0.668\n",
      "UPC_870721732                 -0.2750      0.003    -92.141      0.000      -0.281      -0.269\n",
      "UPC_87093736                   0.0790      0.004     20.759      0.000       0.072       0.086\n",
      "UPC_872082334                 -1.5202      0.004   -423.911      0.000      -1.527      -1.513\n",
      "UPC_872889619                  0.5065      0.003    163.027      0.000       0.500       0.513\n",
      "UPC_873270447                  0.9255      0.003    285.264      0.000       0.919       0.932\n",
      "UPC_874971914                 -0.2781      0.003    -81.739      0.000      -0.285      -0.271\n",
      "UPC_876226151                 -0.2230      0.003    -68.736      0.000      -0.229      -0.217\n",
      "UPC_876898615                  0.8949      0.004    249.533      0.000       0.888       0.902\n",
      "UPC_877162041                  0.0884      0.004     23.244      0.000       0.081       0.096\n",
      "UPC_878698622                  0.0550      0.003     16.964      0.000       0.049       0.061\n",
      "UPC_879777546                  0.6992      0.003    205.502      0.000       0.693       0.706\n",
      "UPC_881311707                  0.8068      0.003    248.679      0.000       0.800       0.813\n",
      "UPC_881539712                  0.8875      0.003    260.809      0.000       0.881       0.894\n",
      "UPC_882672998                  0.1136      0.004     29.857      0.000       0.106       0.121\n",
      "UPC_883647960                  0.6952      0.003    214.304      0.000       0.689       0.702\n",
      "UPC_883713851                  0.4545      0.003    158.009      0.000       0.449       0.460\n",
      "UPC_884354350                  0.8782      0.004    230.864      0.000       0.871       0.886\n",
      "UPC_885481376                 -0.4250      0.003   -131.012      0.000      -0.431      -0.419\n",
      "UPC_88576101                   0.8498      0.003    273.586      0.000       0.844       0.856\n",
      "UPC_886012244                 -1.4875      0.003   -498.406      0.000      -1.493      -1.482\n",
      "UPC_886105169                  0.7178      0.004    200.136      0.000       0.711       0.725\n",
      "UPC_887149013                  0.7242      0.003    233.165      0.000       0.718       0.730\n",
      "UPC_888354959                 -2.4995      0.003   -770.466      0.000      -2.506      -2.493\n",
      "UPC_888599847                  0.7452      0.004    195.931      0.000       0.738       0.753\n",
      "UPC_888666503                  0.9373      0.003    275.501      0.000       0.931       0.944\n",
      "UPC_888713764                 -0.1221      0.004    -34.034      0.000      -0.129      -0.115\n",
      "UPC_891797170                  0.0448      0.003     15.027      0.000       0.039       0.051\n",
      "UPC_894150291                  0.0972      0.004     27.109      0.000       0.090       0.104\n",
      "UPC_894764703                  0.0724      0.004     20.193      0.000       0.065       0.079\n",
      "UPC_895637329                  0.6376      0.003    205.280      0.000       0.632       0.644\n",
      "UPC_896138462                 -0.0775      0.004    -21.621      0.000      -0.085      -0.071\n",
      "UPC_896974529                 -0.3686      0.003   -118.660      0.000      -0.375      -0.362\n",
      "UPC_897021614                  0.8693      0.005    161.626      0.000       0.859       0.880\n",
      "UPC_897422303                  0.4934      0.003    158.838      0.000       0.487       0.499\n",
      "UPC_899571200                 -0.0723      0.004    -16.455      0.000      -0.081      -0.064\n",
      "UPC_899819893                  0.8528      0.003    250.622      0.000       0.846       0.859\n",
      "UPC_899956196                  0.8312      0.003    267.578      0.000       0.825       0.837\n",
      "UPC_902552274                 -3.4426      0.004   -846.612      0.000      -3.451      -3.435\n",
      "UPC_904041295                  0.4795      0.004    117.882      0.000       0.471       0.487\n",
      "UPC_904714463                  0.6600      0.003    221.152      0.000       0.654       0.666\n",
      "UPC_905792642                 -0.8807      0.003   -258.847      0.000      -0.887      -0.874\n",
      "UPC_905914857                  0.6745      0.003    207.922      0.000       0.668       0.681\n",
      "UPC_906234211                 -2.0321      0.003   -706.617      0.000      -2.038      -2.027\n",
      "UPC_907400779                 -0.4146      0.003   -133.453      0.000      -0.421      -0.408\n",
      "UPC_90756884                   0.4402      0.003    135.710      0.000       0.434       0.447\n",
      "UPC_909199429                  0.2244      0.003     65.950      0.000       0.218       0.231\n",
      "UPC_912415151                  0.0446      0.003     14.351      0.000       0.038       0.051\n",
      "UPC_912873332                 -0.1505      0.004    -39.565      0.000      -0.158      -0.143\n",
      "UPC_915191199                  0.2883      0.003     84.743      0.000       0.282       0.295\n",
      "UPC_916097175                 -0.3458      0.003   -111.326      0.000      -0.352      -0.340\n",
      "UPC_917100992                  0.7956      0.004    221.858      0.000       0.789       0.803\n",
      "UPC_917211564                 -0.3321      0.003   -102.377      0.000      -0.338      -0.326\n",
      "UPC_917901226                  0.8646      0.003    266.494      0.000       0.858       0.871\n",
      "UPC_918833743                 -1.3220      0.003   -425.600      0.000      -1.328      -1.316\n",
      "UPC_919110708                 -0.4390      0.003   -129.027      0.000      -0.446      -0.432\n",
      "UPC_920526931                  0.4212      0.004    117.453      0.000       0.414       0.428\n",
      "UPC_922747986                 -0.3148      0.003    -92.514      0.000      -0.321      -0.308\n",
      "UPC_923314883                 -0.0580      0.003    -18.666      0.000      -0.064      -0.052\n",
      "UPC_923891080                 -0.4048      0.003   -118.965      0.000      -0.411      -0.398\n",
      "UPC_924190396                 -1.9516      0.003   -601.537      0.000      -1.958      -1.945\n",
      "UPC_926444424                 -0.5053      0.003   -148.506      0.000      -0.512      -0.499\n",
      "UPC_927312846                 -0.6915      0.003   -222.587      0.000      -0.698      -0.685\n",
      "UPC_927693101                 -0.1920      0.003    -66.770      0.000      -0.198      -0.186\n",
      "UPC_927879675                  0.1831      0.004     51.064      0.000       0.176       0.190\n",
      "UPC_928259579                 -0.2327      0.003    -77.962      0.000      -0.239      -0.227\n",
      "UPC_929137671                 -0.5475      0.004   -152.663      0.000      -0.555      -0.540\n",
      "UPC_929338551                 -0.1422      0.003    -41.798      0.000      -0.149      -0.136\n",
      "UPC_929458444                  0.1209      0.004     31.792      0.000       0.113       0.128\n",
      "UPC_930355523                 -0.6041      0.003   -210.069      0.000      -0.610      -0.599\n",
      "UPC_931390073                 -0.3221      0.003   -103.705      0.000      -0.328      -0.316\n",
      "UPC_932170886                  0.7725      0.003    248.692      0.000       0.766       0.779\n",
      "UPC_932644749                  0.9076      0.003    279.761      0.000       0.901       0.914\n",
      "UPC_932864695                  0.1391      0.003     48.354      0.000       0.133       0.145\n",
      "UPC_93351329                  -0.6081      0.004   -169.585      0.000      -0.615      -0.601\n",
      "UPC_936330605                  0.8849      0.004    246.752      0.000       0.878       0.892\n",
      "UPC_93696286                  -1.0261      0.004   -269.737      0.000      -1.034      -1.019\n",
      "UPC_938758588                  0.6032      0.003    194.198      0.000       0.597       0.609\n",
      "UPC_939282782                  0.3828      0.004    100.628      0.000       0.375       0.390\n",
      "UPC_942541787                  0.2413      0.003     70.914      0.000       0.235       0.248\n",
      "UPC_943281894                 -0.2150      0.003    -69.213      0.000      -0.221      -0.209\n",
      "UPC_944430721                 -0.1136      0.003    -35.018      0.000      -0.120      -0.107\n",
      "UPC_945973686                  0.8841      0.003    259.855      0.000       0.877       0.891\n",
      "UPC_946880003                  0.9190      0.003    283.206      0.000       0.913       0.925\n",
      "UPC_947534594                  0.5487      0.004    153.006      0.000       0.542       0.556\n",
      "UPC_94769945                  -0.1607      0.003    -49.546      0.000      -0.167      -0.154\n",
      "UPC_94849573                   0.8780      0.004    199.925      0.000       0.869       0.887\n",
      "UPC_949435750                 -1.0143      0.005   -210.822      0.000      -1.024      -1.005\n",
      "UPC_950498192                  0.9070      0.003    279.572      0.000       0.901       0.913\n",
      "UPC_952287274                  0.8054      0.003    280.023      0.000       0.800       0.811\n",
      "UPC_952635660                 -0.6094      0.003   -179.107      0.000      -0.616      -0.603\n",
      "UPC_953126270                  0.1742      0.004     42.848      0.000       0.166       0.182\n",
      "UPC_955026913                  0.8267      0.003    254.834      0.000       0.820       0.833\n",
      "UPC_955421336                 -0.2729      0.003    -84.118      0.000      -0.279      -0.267\n",
      "UPC_95658838                   0.5023      0.003    154.816      0.000       0.496       0.509\n",
      "UPC_958194401                  0.4600      0.003    165.559      0.000       0.455       0.465\n",
      "UPC_958465158                  0.6694      0.003    206.357      0.000       0.663       0.676\n",
      "UPC_95862680                  -0.7042      0.003   -206.982      0.000      -0.711      -0.698\n",
      "UPC_95866554                   0.3627      0.003    116.777      0.000       0.357       0.369\n",
      "UPC_959054260                 -0.1753      0.004    -48.879      0.000      -0.182      -0.168\n",
      "UPC_959211839                  0.3541      0.003    114.000      0.000       0.348       0.360\n",
      "UPC_962019991                  0.2765      0.003     85.240      0.000       0.270       0.283\n",
      "UPC_962420701                 -0.3463      0.003   -106.752      0.000      -0.353      -0.340\n",
      "UPC_963136610                  0.5564      0.003    163.525      0.000       0.550       0.563\n",
      "UPC_963229417                  0.6612      0.003    221.538      0.000       0.655       0.667\n",
      "UPC_963858888                  0.7547      0.004    198.413      0.000       0.747       0.762\n",
      "UPC_964715239                  0.3680      0.004     96.735      0.000       0.361       0.375\n",
      "UPC_965083187                  0.3389      0.003    104.454      0.000       0.333       0.345\n",
      "UPC_965370690                  0.6484      0.003    190.582      0.000       0.642       0.655\n",
      "UPC_966125119                  0.0706      0.003     21.758      0.000       0.064       0.077\n",
      "UPC_966176819                  0.4600      0.004    128.252      0.000       0.453       0.467\n",
      "UPC_966807089                  0.8516      0.004    223.876      0.000       0.844       0.859\n",
      "UPC_967167461                 -0.0358      0.003    -11.041      0.000      -0.042      -0.029\n",
      "UPC_970617307                  0.8122      0.003    238.705      0.000       0.806       0.819\n",
      "UPC_971923169                  0.7379      0.003    247.254      0.000       0.732       0.744\n",
      "UPC_975326196                  0.1764      0.003     51.859      0.000       0.170       0.183\n",
      "UPC_975793603                  0.5750      0.003    169.018      0.000       0.568       0.582\n",
      "UPC_976976235                  0.9105      0.003    280.655      0.000       0.904       0.917\n",
      "UPC_977134983                  0.3243      0.003    108.643      0.000       0.318       0.330\n",
      "UPC_978164640                 -0.5291      0.004   -139.114      0.000      -0.537      -0.522\n",
      "UPC_978196729                 -0.2821      0.003    -90.824      0.000      -0.288      -0.276\n",
      "UPC_979616943                 -2.9661      0.003   -914.234      0.000      -2.972      -2.960\n",
      "UPC_980113553                  0.6613      0.003    194.308      0.000       0.655       0.668\n",
      "UPC_980150388                  0.7849      0.003    241.935      0.000       0.779       0.791\n",
      "UPC_980564443                  0.3976      0.003    116.841      0.000       0.391       0.404\n",
      "UPC_981197816                  0.6369      0.003    187.174      0.000       0.630       0.644\n",
      "UPC_981510405                  0.9262      0.003    298.150      0.000       0.920       0.932\n",
      "UPC_981620604                  0.4698      0.003    138.074      0.000       0.463       0.476\n",
      "UPC_98164748                  -0.7030      0.003   -235.555      0.000      -0.709      -0.697\n",
      "UPC_98441419                   0.1494      0.003     43.902      0.000       0.143       0.156\n",
      "UPC_986041768                  0.0274      0.003      8.450      0.000       0.021       0.034\n",
      "UPC_986134213                  0.9083      0.003    304.323      0.000       0.902       0.914\n",
      "UPC_987411986                  0.8692      0.003    255.457      0.000       0.862       0.876\n",
      "UPC_987897892                 -0.9614      0.003   -282.554      0.000      -0.968      -0.955\n",
      "UPC_988776021                  0.4694      0.004    130.880      0.000       0.462       0.476\n",
      "UPC_988779486                  0.2945      0.004     77.436      0.000       0.287       0.302\n",
      "UPC_990258086                  0.5091      0.003    156.938      0.000       0.503       0.515\n",
      "UPC_992105314                  0.3912      0.003    125.939      0.000       0.385       0.397\n",
      "UPC_992125856                  0.6422      0.003    188.742      0.000       0.635       0.649\n",
      "UPC_993910240              -9.062e-05      0.004     -0.022      0.982      -0.008       0.008\n",
      "UPC_994344572                 -0.7750      0.003   -249.498      0.000      -0.781      -0.769\n",
      "UPC_995745822                  0.5440      0.003    167.678      0.000       0.538       0.550\n",
      "UPC_995798889                  0.8801      0.003    271.315      0.000       0.874       0.887\n",
      "UPC_99583114                   0.0404      0.003     11.874      0.000       0.034       0.047\n",
      "UPC_996262978                 -0.5881      0.003   -181.272      0.000      -0.594      -0.582\n",
      "UPC_996849471                 -0.7012      0.003   -206.089      0.000      -0.708      -0.695\n",
      "UPC_99830442                   0.8918      0.003    310.068      0.000       0.886       0.897\n",
      "UPC_998831540                  0.4350      0.003    127.861      0.000       0.428       0.442\n",
      "UPC_999185078                  0.8089      0.003    249.350      0.000       0.803       0.815\n",
      "Banner_Safeway                 1.4394      0.000   6012.208      0.000       1.439       1.440\n",
      "Banner_Trader Joes             1.3893      0.000   6220.103      0.000       1.389       1.390\n",
      "Banner_Walmart                 1.3408      0.000   6510.326      0.000       1.340       1.341\n",
      "Banner_Wegmans                 1.4098      0.000   6377.474      0.000       1.409       1.410\n",
      "Banner_Whole Foods             1.4965      0.000   6191.134      0.000       1.496       1.497\n",
      "Region_Kansas                  1.7170      0.000   7604.973      0.000       1.717       1.717\n",
      "Region_New York                1.7563      0.000   9024.090      0.000       1.756       1.757\n",
      "Region_Northern California     1.8755      0.000   7391.234      0.000       1.875       1.876\n",
      "Region_Texas                   1.7269      0.000   1.04e+04      0.000       1.727       1.727\n",
      "==============================================================================\n",
      "Omnibus:                    13256.147   Durbin-Watson:                   1.999\n",
      "Prob(Omnibus):                  0.000   Jarque-Bera (JB):        131365322.579\n",
      "Skew:                          -5.416   Prob(JB):                         0.00\n",
      "Kurtosis:                     548.316   Cond. No.                     1.73e+16\n",
      "==============================================================================\n",
      "\n",
      "Warnings:\n",
      "[1] Standard Errors assume that the covariance matrix of the errors is correctly specified.\n",
      "[2] The smallest eigenvalue is 1.77e-29. This might indicate that there are\n",
      "strong multicollinearity problems or that the design matrix is singular.\n"
     ]
    }
   ],
   "source": [
    "import statsmodels.api as sm\n",
    "est = sm.OLS(y_lnPrice, df_x_dum)\n",
    "linear_reg = est.fit()\n",
    "print(linear_reg.summary())"
   ]
  },
  {
   "cell_type": "markdown",
   "metadata": {},
   "source": [
    "- All coefficients has p-value < 0.05 (significant) except  the 'UPC_106918220'"
   ]
  },
  {
   "cell_type": "code",
   "execution_count": 30,
   "metadata": {},
   "outputs": [],
   "source": [
    "y_ln_pred = linear_reg.predict()"
   ]
  },
  {
   "cell_type": "code",
   "execution_count": 31,
   "metadata": {},
   "outputs": [
    {
     "name": "stdout",
     "output_type": "stream",
     "text": [
      "The R^2 value of the fit is 0.99986.\n"
     ]
    }
   ],
   "source": [
    "print (\"The R^2 value of the fit is {}.\".format(round(linear_reg.rsquared,5)))"
   ]
  },
  {
   "cell_type": "markdown",
   "metadata": {},
   "source": [
    "- The model has very good R^2 value, 99.99% of the variance in the price is explained by the included features."
   ]
  },
  {
   "cell_type": "markdown",
   "metadata": {},
   "source": [
    "### Which region is the most expensive?"
   ]
  },
  {
   "cell_type": "code",
   "execution_count": 32,
   "metadata": {
    "scrolled": false
   },
   "outputs": [
    {
     "data": {
      "image/png": "[encoded data removed]",
      "text/plain": [
       "<Figure size 720x360 with 1 Axes>"
      ]
     },
     "metadata": {
      "needs_background": "light"
     },
     "output_type": "display_data"
    }
   ],
   "source": [
    "x = list((np.exp(linear_reg.params[-4:])).index)\n",
    "y = list(np.exp(linear_reg.params[-4:]))\n",
    "_ = plt.figure(figsize=(10,5))\n",
    "_ = plt.bar(x, y)\n",
    "_ = plt.grid(linestyle=':',axis='y')\n",
    "_ = plt.xlabel(\"Region\")\n",
    "_ = plt.ylabel(\"Region Multiplier\")"
   ]
  },
  {
   "cell_type": "code",
   "execution_count": 33,
   "metadata": {},
   "outputs": [
    {
     "name": "stdout",
     "output_type": "stream",
     "text": [
      "The region multipliers are:\n",
      "Region_Kansas                 5.567694\n",
      "Region_New York               5.791183\n",
      "Region_Northern California    6.524399\n",
      "Region_Texas                  5.623198\n"
     ]
    }
   ],
   "source": [
    "print ('The region multipliers are:')\n",
    "print ( np.exp(linear_reg.params[-4:]).to_string() )"
   ]
  },
  {
   "cell_type": "markdown",
   "metadata": {},
   "source": [
    "### Which store is the most expensive?"
   ]
  },
  {
   "cell_type": "code",
   "execution_count": 34,
   "metadata": {
    "scrolled": true
   },
   "outputs": [
    {
     "data": {
      "image/png": "[encoded data removed]",
      "text/plain": [
       "<Figure size 720x360 with 1 Axes>"
      ]
     },
     "metadata": {
      "needs_background": "light"
     },
     "output_type": "display_data"
    }
   ],
   "source": [
    "x = list((np.exp(linear_reg.params[-9:-4])).index)\n",
    "y = list(np.exp(linear_reg.params[-9:-4]))\n",
    "_ = plt.figure(figsize=(10,5))\n",
    "_ = plt.bar(x, y)\n",
    "_ = plt.grid(linestyle=':',axis='y')\n",
    "_ = plt.xlabel(\"Store\")\n",
    "_ = plt.ylabel(\"Store Multiplier\")"
   ]
  },
  {
   "cell_type": "code",
   "execution_count": 35,
   "metadata": {},
   "outputs": [
    {
     "name": "stdout",
     "output_type": "stream",
     "text": [
      "The store multipliers are:\n",
      "Banner_Safeway        4.218067\n",
      "Banner_Trader Joes    4.012087\n",
      "Banner_Walmart        3.822253\n",
      "Banner_Wegmans        4.094975\n",
      "Banner_Whole Foods    4.465932\n"
     ]
    }
   ],
   "source": [
    "print ('The store multipliers are:')\n",
    "print ( np.exp(linear_reg.params[-9:-4]).to_string() )"
   ]
  },
  {
   "cell_type": "markdown",
   "metadata": {},
   "source": [
    "### Plotting ln(Price) vs ln(Predicted Price)"
   ]
  },
  {
   "cell_type": "code",
   "execution_count": 36,
   "metadata": {
    "scrolled": true
   },
   "outputs": [
    {
     "data": {
      "image/png": "[encoded data removed]",
      "text/plain": [
       "<Figure size 360x360 with 1 Axes>"
      ]
     },
     "metadata": {
      "needs_background": "light"
     },
     "output_type": "display_data"
    }
   ],
   "source": [
    "_ = plt.figure(figsize=(5, 5))\n",
    "_ = plt.scatter(y_ln_pred, y_lnPrice)\n",
    "_ = plt.xlabel(\"ln Predicted Price ($)\")\n",
    "_ = plt.ylabel(\"ln Price ($)\")"
   ]
  },
  {
   "cell_type": "markdown",
   "metadata": {},
   "source": [
    "#### Plot residuals of ln(Price) vs ln (Predicted Price)"
   ]
  },
  {
   "cell_type": "code",
   "execution_count": 37,
   "metadata": {
    "scrolled": true
   },
   "outputs": [
    {
     "data": {
      "image/png": "[encoded data removed]",
      "text/plain": [
       "<Figure size 720x360 with 1 Axes>"
      ]
     },
     "metadata": {
      "needs_background": "light"
     },
     "output_type": "display_data"
    }
   ],
   "source": [
    "res = (y_ln_pred-y_lnPrice)\n",
    "_ = plt.figure(figsize=(10,5))\n",
    "_ = plt.scatter(y_ln_pred, res)\n",
    "_ = plt.xlabel(\"ln Predicted Price ($)\")\n",
    "_ = plt.ylabel(\"Residual ($)\")"
   ]
  },
  {
   "cell_type": "markdown",
   "metadata": {},
   "source": [
    "### Plotting Price vs Predicted Price"
   ]
  },
  {
   "cell_type": "code",
   "execution_count": 38,
   "metadata": {},
   "outputs": [],
   "source": [
    "# calculate predicted price from y_ln_pred\n",
    "df_price_comp = prices_stores_df_clean.copy()\n",
    "df_price_comp['price_pred'] = y_ln_pred\n",
    "df_price_comp['price_pred'] = df_price_comp['price_pred'].apply(lambda x: math.exp(x))"
   ]
  },
  {
   "cell_type": "code",
   "execution_count": 39,
   "metadata": {},
   "outputs": [
    {
     "data": {
      "image/png": "[encoded data removed]",
      "text/plain": [
       "<Figure size 360x360 with 1 Axes>"
      ]
     },
     "metadata": {
      "needs_background": "light"
     },
     "output_type": "display_data"
    }
   ],
   "source": [
    "# plot predicted price vs price\n",
    "_ = plt.figure(figsize=(5, 5))\n",
    "_ = plt.scatter(df_price_comp['price_pred'], df_price_comp['Price'])\n",
    "_ = plt.xlabel(\"Predicted Price ($)\")\n",
    "_ = plt.ylabel(\"Price ($)\")"
   ]
  },
  {
   "cell_type": "markdown",
   "metadata": {},
   "source": [
    "#### Plotting Residual, Percentage Residual, and Standardized Residual"
   ]
  },
  {
   "cell_type": "code",
   "execution_count": 40,
   "metadata": {},
   "outputs": [],
   "source": [
    "# calculate residual and percentage residual\n",
    "price_recd = df_price_comp['Price']\n",
    "price_pred = df_price_comp['price_pred']\n",
    "res_price = (price_pred-price_recd)\n",
    "df_price_comp['res_price'] = res_price\n",
    "df_price_comp['pct_res_price'] = res_price*100/price_recd"
   ]
  },
  {
   "cell_type": "code",
   "execution_count": 41,
   "metadata": {
    "scrolled": false
   },
   "outputs": [
    {
     "data": {
      "image/png": "[encoded data removed]",
      "text/plain": [
       "<Figure size 864x576 with 3 Axes>"
      ]
     },
     "metadata": {
      "needs_background": "light"
     },
     "output_type": "display_data"
    }
   ],
   "source": [
    "fig = plt.figure(figsize=(12,8))\n",
    "ax1 = fig.add_subplot(311)\n",
    "_ = plt.scatter(df_price_comp['price_pred'], df_price_comp['res_price'])\n",
    "_ = plt.ylabel(\"Residual ($)\")\n",
    "\n",
    "ax2 = fig.add_subplot(312)\n",
    "_ = plt.scatter(df_price_comp['price_pred'], df_price_comp['pct_res_price'])\n",
    "_ = plt.ylabel(\"Percentage Residual\")\n",
    "\n",
    "ax3 = fig.add_subplot(313)\n",
    "rse = np.std(res_price)\n",
    "stdized_res = res_price/rse\n",
    "df_price_comp['stdz_res'] = stdized_res\n",
    "_ = plt.scatter(df_price_comp['price_pred'], df_price_comp['stdz_res'])\n",
    "_ = plt.xlabel(\"Predicted Price ($)\")\n",
    "_ = plt.ylabel(\"Standardized Residual\")"
   ]
  },
  {
   "cell_type": "markdown",
   "metadata": {},
   "source": [
    "###### What are the records that seem off?\n",
    "   - Look at the records with large residual (larger than 6 standard deviations)."
   ]
  },
  {
   "cell_type": "code",
   "execution_count": 42,
   "metadata": {
    "scrolled": true
   },
   "outputs": [
    {
     "data": {
      "text/html": [
       "<div>\n",
       "<style scoped>\n",
       "    .dataframe tbody tr th:only-of-type {\n",
       "        vertical-align: middle;\n",
       "    }\n",
       "\n",
       "    .dataframe tbody tr th {\n",
       "        vertical-align: top;\n",
       "    }\n",
       "\n",
       "    .dataframe thead th {\n",
       "        text-align: right;\n",
       "    }\n",
       "</style>\n",
       "<table border=\"1\" class=\"dataframe\">\n",
       "  <thead>\n",
       "    <tr style=\"text-align: right;\">\n",
       "      <th></th>\n",
       "      <th>Auditor ID</th>\n",
       "      <th>Date</th>\n",
       "      <th>Price</th>\n",
       "      <th>Store ID</th>\n",
       "      <th>UPC</th>\n",
       "      <th>Banner</th>\n",
       "      <th>Region</th>\n",
       "      <th>First</th>\n",
       "      <th>Last</th>\n",
       "      <th>Region_aud</th>\n",
       "      <th>ln_Price</th>\n",
       "      <th>price_pred</th>\n",
       "      <th>res_price</th>\n",
       "      <th>pct_res_price</th>\n",
       "      <th>stdz_res</th>\n",
       "    </tr>\n",
       "  </thead>\n",
       "  <tbody>\n",
       "    <tr>\n",
       "      <th>813</th>\n",
       "      <td>98</td>\n",
       "      <td>10/25/17</td>\n",
       "      <td>16.89</td>\n",
       "      <td>39482</td>\n",
       "      <td>286906735</td>\n",
       "      <td>Safeway</td>\n",
       "      <td>Northern California</td>\n",
       "      <td>Jack</td>\n",
       "      <td>Smith</td>\n",
       "      <td>New York</td>\n",
       "      <td>2.826722</td>\n",
       "      <td>13.159685</td>\n",
       "      <td>-3.730315</td>\n",
       "      <td>-22.085940</td>\n",
       "      <td>-11.791267</td>\n",
       "    </tr>\n",
       "    <tr>\n",
       "      <th>860</th>\n",
       "      <td>98</td>\n",
       "      <td>10/27/17</td>\n",
       "      <td>40.29</td>\n",
       "      <td>39482</td>\n",
       "      <td>269161785</td>\n",
       "      <td>Safeway</td>\n",
       "      <td>Northern California</td>\n",
       "      <td>Jack</td>\n",
       "      <td>Smith</td>\n",
       "      <td>New York</td>\n",
       "      <td>3.696103</td>\n",
       "      <td>55.743775</td>\n",
       "      <td>15.453775</td>\n",
       "      <td>38.356354</td>\n",
       "      <td>48.848309</td>\n",
       "    </tr>\n",
       "    <tr>\n",
       "      <th>2536</th>\n",
       "      <td>203</td>\n",
       "      <td>10/17/17</td>\n",
       "      <td>33.89</td>\n",
       "      <td>9487</td>\n",
       "      <td>565229692</td>\n",
       "      <td>Trader Joes</td>\n",
       "      <td>New York</td>\n",
       "      <td>Jill</td>\n",
       "      <td>Smith</td>\n",
       "      <td>New York</td>\n",
       "      <td>3.523120</td>\n",
       "      <td>46.796051</td>\n",
       "      <td>12.906051</td>\n",
       "      <td>38.082180</td>\n",
       "      <td>40.795130</td>\n",
       "    </tr>\n",
       "    <tr>\n",
       "      <th>4276</th>\n",
       "      <td>98</td>\n",
       "      <td>10/24/17</td>\n",
       "      <td>62.69</td>\n",
       "      <td>50948</td>\n",
       "      <td>790347148</td>\n",
       "      <td>Whole Foods</td>\n",
       "      <td>New York</td>\n",
       "      <td>Jack</td>\n",
       "      <td>Smith</td>\n",
       "      <td>New York</td>\n",
       "      <td>4.138202</td>\n",
       "      <td>49.029722</td>\n",
       "      <td>-13.660278</td>\n",
       "      <td>-21.790203</td>\n",
       "      <td>-43.179191</td>\n",
       "    </tr>\n",
       "    <tr>\n",
       "      <th>5672</th>\n",
       "      <td>713</td>\n",
       "      <td>10/24/17</td>\n",
       "      <td>24.09</td>\n",
       "      <td>3948</td>\n",
       "      <td>927693101</td>\n",
       "      <td>Wegmans</td>\n",
       "      <td>Kansas</td>\n",
       "      <td>Dave</td>\n",
       "      <td>Johnson</td>\n",
       "      <td>Kansas</td>\n",
       "      <td>3.181797</td>\n",
       "      <td>18.815769</td>\n",
       "      <td>-5.274231</td>\n",
       "      <td>-21.893862</td>\n",
       "      <td>-16.671479</td>\n",
       "    </tr>\n",
       "    <tr>\n",
       "      <th>5790</th>\n",
       "      <td>713</td>\n",
       "      <td>10/25/17</td>\n",
       "      <td>16.99</td>\n",
       "      <td>3948</td>\n",
       "      <td>376153383</td>\n",
       "      <td>Wegmans</td>\n",
       "      <td>Kansas</td>\n",
       "      <td>Dave</td>\n",
       "      <td>Johnson</td>\n",
       "      <td>Kansas</td>\n",
       "      <td>2.832625</td>\n",
       "      <td>23.608066</td>\n",
       "      <td>6.618066</td>\n",
       "      <td>38.952712</td>\n",
       "      <td>20.919246</td>\n",
       "    </tr>\n",
       "    <tr>\n",
       "      <th>7764</th>\n",
       "      <td>63</td>\n",
       "      <td>10/23/17</td>\n",
       "      <td>42.79</td>\n",
       "      <td>50495</td>\n",
       "      <td>301161010</td>\n",
       "      <td>Walmart</td>\n",
       "      <td>Texas</td>\n",
       "      <td>Randy</td>\n",
       "      <td>Johnson</td>\n",
       "      <td>Texas</td>\n",
       "      <td>3.756304</td>\n",
       "      <td>33.609700</td>\n",
       "      <td>-9.180300</td>\n",
       "      <td>-21.454313</td>\n",
       "      <td>-29.018291</td>\n",
       "    </tr>\n",
       "    <tr>\n",
       "      <th>9253</th>\n",
       "      <td>304</td>\n",
       "      <td>10/27/17</td>\n",
       "      <td>61.39</td>\n",
       "      <td>98638</td>\n",
       "      <td>971923169</td>\n",
       "      <td>Wegmans</td>\n",
       "      <td>Texas</td>\n",
       "      <td>Jerry</td>\n",
       "      <td>Johnson</td>\n",
       "      <td>Texas</td>\n",
       "      <td>4.117247</td>\n",
       "      <td>48.163875</td>\n",
       "      <td>-13.226125</td>\n",
       "      <td>-21.544428</td>\n",
       "      <td>-41.806861</td>\n",
       "    </tr>\n",
       "    <tr>\n",
       "      <th>10056</th>\n",
       "      <td>304</td>\n",
       "      <td>10/21/17</td>\n",
       "      <td>9.09</td>\n",
       "      <td>98638</td>\n",
       "      <td>930355523</td>\n",
       "      <td>Wegmans</td>\n",
       "      <td>Texas</td>\n",
       "      <td>Jerry</td>\n",
       "      <td>Johnson</td>\n",
       "      <td>Texas</td>\n",
       "      <td>2.207175</td>\n",
       "      <td>12.585137</td>\n",
       "      <td>3.495137</td>\n",
       "      <td>38.450348</td>\n",
       "      <td>11.047884</td>\n",
       "    </tr>\n",
       "  </tbody>\n",
       "</table>\n",
       "</div>"
      ],
      "text/plain": [
       "       Auditor ID      Date  Price  Store ID        UPC       Banner  \\\n",
       "813            98  10/25/17  16.89     39482  286906735      Safeway   \n",
       "860            98  10/27/17  40.29     39482  269161785      Safeway   \n",
       "2536          203  10/17/17  33.89      9487  565229692  Trader Joes   \n",
       "4276           98  10/24/17  62.69     50948  790347148  Whole Foods   \n",
       "5672          713  10/24/17  24.09      3948  927693101      Wegmans   \n",
       "5790          713  10/25/17  16.99      3948  376153383      Wegmans   \n",
       "7764           63  10/23/17  42.79     50495  301161010      Walmart   \n",
       "9253          304  10/27/17  61.39     98638  971923169      Wegmans   \n",
       "10056         304  10/21/17   9.09     98638  930355523      Wegmans   \n",
       "\n",
       "                    Region  First     Last Region_aud  ln_Price  price_pred  \\\n",
       "813    Northern California   Jack    Smith   New York  2.826722   13.159685   \n",
       "860    Northern California   Jack    Smith   New York  3.696103   55.743775   \n",
       "2536              New York   Jill    Smith   New York  3.523120   46.796051   \n",
       "4276              New York   Jack    Smith   New York  4.138202   49.029722   \n",
       "5672                Kansas   Dave  Johnson     Kansas  3.181797   18.815769   \n",
       "5790                Kansas   Dave  Johnson     Kansas  2.832625   23.608066   \n",
       "7764                 Texas  Randy  Johnson      Texas  3.756304   33.609700   \n",
       "9253                 Texas  Jerry  Johnson      Texas  4.117247   48.163875   \n",
       "10056                Texas  Jerry  Johnson      Texas  2.207175   12.585137   \n",
       "\n",
       "       res_price  pct_res_price   stdz_res  \n",
       "813    -3.730315     -22.085940 -11.791267  \n",
       "860    15.453775      38.356354  48.848309  \n",
       "2536   12.906051      38.082180  40.795130  \n",
       "4276  -13.660278     -21.790203 -43.179191  \n",
       "5672   -5.274231     -21.893862 -16.671479  \n",
       "5790    6.618066      38.952712  20.919246  \n",
       "7764   -9.180300     -21.454313 -29.018291  \n",
       "9253  -13.226125     -21.544428 -41.806861  \n",
       "10056   3.495137      38.450348  11.047884  "
      ]
     },
     "execution_count": 42,
     "metadata": {},
     "output_type": "execute_result"
    }
   ],
   "source": [
    "cond = (df_price_comp['stdz_res']>6) | (df_price_comp['stdz_res']<-6)\n",
    "df_price_comp[cond]"
   ]
  },
  {
   "cell_type": "markdown",
   "metadata": {},
   "source": [
    "- save the anomalies into a file"
   ]
  },
  {
   "cell_type": "code",
   "execution_count": 43,
   "metadata": {},
   "outputs": [],
   "source": [
    "df_price_comp[cond].to_csv('anomalies.csv')"
   ]
  },
  {
   "cell_type": "markdown",
   "metadata": {},
   "source": [
    "<a id='sec_conc'></a>\n",
    "## (5) Conclusion\n",
    "\n",
    "Do you notice anything that seems off with the data we’ve collected? Call out anything you find noteworthy.\n",
    "- The following are what I notice:\n",
    "    - There is one inconsistency in the auditor's region vs store's region:\n",
    "        - Jack Smith from New York recorded data of the store Safeway in Northern California.\n",
    "    - There are unusual prices of 1.99 USD (912 values) and 1.49 USD (1 value) recorded at the store ID: 39287 (which corresponds to 'Whole Foods' in 'Kansas') \n",
    "        - These suspicious values seem to be incorrectly recorded.\n",
    "        - I remove these values before fitting the model.\n",
    "    - After fitting a linear model, 9 data points are very off (listed above and also saved in the file ***'anomalies.csv'***). \n",
    "        - 5 of them have percentage residual of about 22%\n",
    "        - 4 of them have percentage residual of about 38%\n",
    "        - These outliers do not look very random. There is probably a systematic error when these values were recorded."
   ]
  }
 ],
 "metadata": {
  "kernelspec": {
   "display_name": "Python 3",
   "language": "python",
   "name": "python3"
  },
  "language_info": {
   "codemirror_mode": {
    "name": "ipython",
    "version": 3
   },
   "file_extension": ".py",
   "mimetype": "text/x-python",
   "name": "python",
   "nbconvert_exporter": "python",
   "pygments_lexer": "ipython3",
   "version": "3.7.3"
  }
 },
 "nbformat": 4,
 "nbformat_minor": 2
}
